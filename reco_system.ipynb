{
 "cells": [
  {
   "cell_type": "code",
   "execution_count": 1,
   "metadata": {
    "_cell_guid": "b1076dfc-b9ad-4769-8c92-a6c4dae69d19",
    "_uuid": "8f2839f25d086af736a60e9eeb907d3b93b6e0e5",
    "execution": {
     "iopub.execute_input": "2023-03-18T07:28:49.890282Z",
     "iopub.status.busy": "2023-03-18T07:28:49.889911Z",
     "iopub.status.idle": "2023-03-18T07:28:49.898562Z",
     "shell.execute_reply": "2023-03-18T07:28:49.897695Z",
     "shell.execute_reply.started": "2023-03-18T07:28:49.890249Z"
    },
    "id": "BCaqnkE9oH02"
   },
   "outputs": [
    {
     "name": "stderr",
     "output_type": "stream",
     "text": [
      "C:\\Users\\priya\\anaconda3\\Lib\\site-packages\\torchaudio\\backend\\utils.py:74: UserWarning: No audio backend is available.\n",
      "  warnings.warn(\"No audio backend is available.\")\n"
     ]
    }
   ],
   "source": [
    "import pandas as pd\n",
    "import numpy as np\n",
    "from tqdm.notebook import tqdm\n",
    "import matplotlib.pyplot as plt\n",
    "import re\n",
    "\n",
    "import torch\n",
    "import torch.nn as nn\n",
    "from torch.utils.data import Dataset, DataLoader\n",
    "import pytorch_lightning as pl\n",
    "\n",
    "from datetime import datetime\n",
    "\n",
    "np.random.seed(42)\n",
    "import warnings\n",
    "warnings.filterwarnings(\"ignore\")\n",
    "from tqdm.auto import tqdm\n",
    "\n",
    "from random import sample\n",
    "\n",
    "import torch\n",
    "from torch.utils.data import Dataset\n",
    "import torch.nn as nn\n",
    "import pytorch_lightning as pl\n",
    "from torch.utils.data import DataLoader"
   ]
  },
  {
   "cell_type": "code",
   "execution_count": 2,
   "metadata": {},
   "outputs": [
    {
     "name": "stdout",
     "output_type": "stream",
     "text": [
      "True\n"
     ]
    }
   ],
   "source": [
    "print(torch.cuda.is_available())"
   ]
  },
  {
   "cell_type": "code",
   "execution_count": 3,
   "metadata": {},
   "outputs": [
    {
     "data": {
      "text/plain": [
       "tensor([0.], device='cuda:0')"
      ]
     },
     "execution_count": 3,
     "metadata": {},
     "output_type": "execute_result"
    }
   ],
   "source": [
    "torch.zeros(1).cuda()"
   ]
  },
  {
   "cell_type": "markdown",
   "metadata": {
    "id": "qDp_O2iJoH04"
   },
   "source": [
    "### Import Data"
   ]
  },
  {
   "cell_type": "code",
   "execution_count": 4,
   "metadata": {
    "_kg_hide-input": false,
    "colab": {
     "base_uri": "https://localhost:8080/"
    },
    "execution": {
     "iopub.execute_input": "2023-03-18T06:52:15.340423Z",
     "iopub.status.busy": "2023-03-18T06:52:15.339536Z",
     "iopub.status.idle": "2023-03-18T06:52:24.281710Z",
     "shell.execute_reply": "2023-03-18T06:52:24.280633Z",
     "shell.execute_reply.started": "2023-03-18T06:52:15.340381Z"
    },
    "id": "P5SFyGQdoH05",
    "outputId": "3d089c1a-d256-44a4-8733-ec00eacc92c2"
   },
   "outputs": [],
   "source": [
    "# Download MovieLens data.\n",
    "print(\"Downloading movielens data...\")\n",
    "from urllib.request import urlretrieve\n",
    "import zipfile\n",
    "\n",
    "urlretrieve(\"http://files.grouplens.org/datasets/movielens/ml-25m.zip\", \"movielens.zip\")\n",
    "zip_ref = zipfile.ZipFile('movielens.zip', \"r\")\n",
    "zip_ref.extractall()\n",
    "print(\"Done!\")"
   ]
  },
  {
   "cell_type": "code",
   "execution_count": 5,
   "metadata": {
    "colab": {
     "base_uri": "https://localhost:8080/",
     "height": 314
    },
    "execution": {
     "iopub.execute_input": "2023-03-18T06:52:37.212106Z",
     "iopub.status.busy": "2023-03-18T06:52:37.211668Z",
     "iopub.status.idle": "2023-03-18T06:53:03.681604Z",
     "shell.execute_reply": "2023-03-18T06:53:03.680413Z",
     "shell.execute_reply.started": "2023-03-18T06:52:37.212073Z"
    },
    "id": "0vyHGRDAoH06",
    "outputId": "3c9496e5-f8fd-48ec-cc97-4b0ae86cf9cd"
   },
   "outputs": [
    {
     "data": {
      "text/html": [
       "<div>\n",
       "<style scoped>\n",
       "    .dataframe tbody tr th:only-of-type {\n",
       "        vertical-align: middle;\n",
       "    }\n",
       "\n",
       "    .dataframe tbody tr th {\n",
       "        vertical-align: top;\n",
       "    }\n",
       "\n",
       "    .dataframe thead th {\n",
       "        text-align: right;\n",
       "    }\n",
       "</style>\n",
       "<table border=\"1\" class=\"dataframe\">\n",
       "  <thead>\n",
       "    <tr style=\"text-align: right;\">\n",
       "      <th></th>\n",
       "      <th>movieId</th>\n",
       "      <th>title</th>\n",
       "      <th>Adventure</th>\n",
       "      <th>Animation</th>\n",
       "      <th>Children</th>\n",
       "      <th>Comedy</th>\n",
       "      <th>Fantasy</th>\n",
       "      <th>Romance</th>\n",
       "      <th>Drama</th>\n",
       "      <th>Action</th>\n",
       "      <th>...</th>\n",
       "      <th>Horror</th>\n",
       "      <th>Mystery</th>\n",
       "      <th>Sci-Fi</th>\n",
       "      <th>IMAX</th>\n",
       "      <th>Documentary</th>\n",
       "      <th>War</th>\n",
       "      <th>Musical</th>\n",
       "      <th>Western</th>\n",
       "      <th>Film-Noir</th>\n",
       "      <th>(no genres listed)</th>\n",
       "    </tr>\n",
       "  </thead>\n",
       "  <tbody>\n",
       "    <tr>\n",
       "      <th>0</th>\n",
       "      <td>1</td>\n",
       "      <td>Toy Story (1995)</td>\n",
       "      <td>1.0</td>\n",
       "      <td>1.0</td>\n",
       "      <td>1.0</td>\n",
       "      <td>1.0</td>\n",
       "      <td>1.0</td>\n",
       "      <td>0.0</td>\n",
       "      <td>0.0</td>\n",
       "      <td>0.0</td>\n",
       "      <td>...</td>\n",
       "      <td>0.0</td>\n",
       "      <td>0.0</td>\n",
       "      <td>0.0</td>\n",
       "      <td>0.0</td>\n",
       "      <td>0.0</td>\n",
       "      <td>0.0</td>\n",
       "      <td>0.0</td>\n",
       "      <td>0.0</td>\n",
       "      <td>0.0</td>\n",
       "      <td>0.0</td>\n",
       "    </tr>\n",
       "    <tr>\n",
       "      <th>1</th>\n",
       "      <td>2</td>\n",
       "      <td>Jumanji (1995)</td>\n",
       "      <td>1.0</td>\n",
       "      <td>0.0</td>\n",
       "      <td>1.0</td>\n",
       "      <td>0.0</td>\n",
       "      <td>1.0</td>\n",
       "      <td>0.0</td>\n",
       "      <td>0.0</td>\n",
       "      <td>0.0</td>\n",
       "      <td>...</td>\n",
       "      <td>0.0</td>\n",
       "      <td>0.0</td>\n",
       "      <td>0.0</td>\n",
       "      <td>0.0</td>\n",
       "      <td>0.0</td>\n",
       "      <td>0.0</td>\n",
       "      <td>0.0</td>\n",
       "      <td>0.0</td>\n",
       "      <td>0.0</td>\n",
       "      <td>0.0</td>\n",
       "    </tr>\n",
       "    <tr>\n",
       "      <th>2</th>\n",
       "      <td>3</td>\n",
       "      <td>Grumpier Old Men (1995)</td>\n",
       "      <td>0.0</td>\n",
       "      <td>0.0</td>\n",
       "      <td>0.0</td>\n",
       "      <td>1.0</td>\n",
       "      <td>0.0</td>\n",
       "      <td>1.0</td>\n",
       "      <td>0.0</td>\n",
       "      <td>0.0</td>\n",
       "      <td>...</td>\n",
       "      <td>0.0</td>\n",
       "      <td>0.0</td>\n",
       "      <td>0.0</td>\n",
       "      <td>0.0</td>\n",
       "      <td>0.0</td>\n",
       "      <td>0.0</td>\n",
       "      <td>0.0</td>\n",
       "      <td>0.0</td>\n",
       "      <td>0.0</td>\n",
       "      <td>0.0</td>\n",
       "    </tr>\n",
       "    <tr>\n",
       "      <th>3</th>\n",
       "      <td>4</td>\n",
       "      <td>Waiting to Exhale (1995)</td>\n",
       "      <td>0.0</td>\n",
       "      <td>0.0</td>\n",
       "      <td>0.0</td>\n",
       "      <td>1.0</td>\n",
       "      <td>0.0</td>\n",
       "      <td>1.0</td>\n",
       "      <td>1.0</td>\n",
       "      <td>0.0</td>\n",
       "      <td>...</td>\n",
       "      <td>0.0</td>\n",
       "      <td>0.0</td>\n",
       "      <td>0.0</td>\n",
       "      <td>0.0</td>\n",
       "      <td>0.0</td>\n",
       "      <td>0.0</td>\n",
       "      <td>0.0</td>\n",
       "      <td>0.0</td>\n",
       "      <td>0.0</td>\n",
       "      <td>0.0</td>\n",
       "    </tr>\n",
       "    <tr>\n",
       "      <th>4</th>\n",
       "      <td>5</td>\n",
       "      <td>Father of the Bride Part II (1995)</td>\n",
       "      <td>0.0</td>\n",
       "      <td>0.0</td>\n",
       "      <td>0.0</td>\n",
       "      <td>1.0</td>\n",
       "      <td>0.0</td>\n",
       "      <td>0.0</td>\n",
       "      <td>0.0</td>\n",
       "      <td>0.0</td>\n",
       "      <td>...</td>\n",
       "      <td>0.0</td>\n",
       "      <td>0.0</td>\n",
       "      <td>0.0</td>\n",
       "      <td>0.0</td>\n",
       "      <td>0.0</td>\n",
       "      <td>0.0</td>\n",
       "      <td>0.0</td>\n",
       "      <td>0.0</td>\n",
       "      <td>0.0</td>\n",
       "      <td>0.0</td>\n",
       "    </tr>\n",
       "  </tbody>\n",
       "</table>\n",
       "<p>5 rows × 22 columns</p>\n",
       "</div>"
      ],
      "text/plain": [
       "   movieId                               title  Adventure  Animation  \\\n",
       "0        1                    Toy Story (1995)        1.0        1.0   \n",
       "1        2                      Jumanji (1995)        1.0        0.0   \n",
       "2        3             Grumpier Old Men (1995)        0.0        0.0   \n",
       "3        4            Waiting to Exhale (1995)        0.0        0.0   \n",
       "4        5  Father of the Bride Part II (1995)        0.0        0.0   \n",
       "\n",
       "   Children  Comedy  Fantasy  Romance  Drama  Action  ...  Horror  Mystery  \\\n",
       "0       1.0     1.0      1.0      0.0    0.0     0.0  ...     0.0      0.0   \n",
       "1       1.0     0.0      1.0      0.0    0.0     0.0  ...     0.0      0.0   \n",
       "2       0.0     1.0      0.0      1.0    0.0     0.0  ...     0.0      0.0   \n",
       "3       0.0     1.0      0.0      1.0    1.0     0.0  ...     0.0      0.0   \n",
       "4       0.0     1.0      0.0      0.0    0.0     0.0  ...     0.0      0.0   \n",
       "\n",
       "   Sci-Fi  IMAX  Documentary  War  Musical  Western  Film-Noir  \\\n",
       "0     0.0   0.0          0.0  0.0      0.0      0.0        0.0   \n",
       "1     0.0   0.0          0.0  0.0      0.0      0.0        0.0   \n",
       "2     0.0   0.0          0.0  0.0      0.0      0.0        0.0   \n",
       "3     0.0   0.0          0.0  0.0      0.0      0.0        0.0   \n",
       "4     0.0   0.0          0.0  0.0      0.0      0.0        0.0   \n",
       "\n",
       "   (no genres listed)  \n",
       "0                 0.0  \n",
       "1                 0.0  \n",
       "2                 0.0  \n",
       "3                 0.0  \n",
       "4                 0.0  \n",
       "\n",
       "[5 rows x 22 columns]"
      ]
     },
     "execution_count": 5,
     "metadata": {},
     "output_type": "execute_result"
    }
   ],
   "source": [
    "# Import movies data\n",
    "movies_data = pd.read_csv(\"./ml-25m/movies.csv\")\n",
    "genres_split = movies_data.genres.apply(lambda x: x.split(sep='|')).apply(pd.value_counts, 1).fillna(0)\n",
    "movies_data = pd.concat([movies_data.iloc[:,:-1], genres_split], axis=1)\n",
    "movies_data.shape\n",
    "movies_data.head()"
   ]
  },
  {
   "cell_type": "code",
   "execution_count": 6,
   "metadata": {
    "colab": {
     "base_uri": "https://localhost:8080/",
     "height": 206
    },
    "execution": {
     "iopub.execute_input": "2023-03-18T06:53:03.684262Z",
     "iopub.status.busy": "2023-03-18T06:53:03.683873Z",
     "iopub.status.idle": "2023-03-18T06:53:11.229039Z",
     "shell.execute_reply": "2023-03-18T06:53:11.227707Z",
     "shell.execute_reply.started": "2023-03-18T06:53:03.684214Z"
    },
    "id": "enDM1SAkoH06",
    "outputId": "90cd21e3-bb3d-4855-b355-03876d7fd92b"
   },
   "outputs": [
    {
     "data": {
      "text/html": [
       "<div>\n",
       "<style scoped>\n",
       "    .dataframe tbody tr th:only-of-type {\n",
       "        vertical-align: middle;\n",
       "    }\n",
       "\n",
       "    .dataframe tbody tr th {\n",
       "        vertical-align: top;\n",
       "    }\n",
       "\n",
       "    .dataframe thead th {\n",
       "        text-align: right;\n",
       "    }\n",
       "</style>\n",
       "<table border=\"1\" class=\"dataframe\">\n",
       "  <thead>\n",
       "    <tr style=\"text-align: right;\">\n",
       "      <th></th>\n",
       "      <th>userId</th>\n",
       "      <th>movieId</th>\n",
       "      <th>rating</th>\n",
       "      <th>timestamp</th>\n",
       "    </tr>\n",
       "  </thead>\n",
       "  <tbody>\n",
       "    <tr>\n",
       "      <th>0</th>\n",
       "      <td>1</td>\n",
       "      <td>296</td>\n",
       "      <td>5.0</td>\n",
       "      <td>2006-05-17 15:34:04</td>\n",
       "    </tr>\n",
       "    <tr>\n",
       "      <th>1</th>\n",
       "      <td>1</td>\n",
       "      <td>306</td>\n",
       "      <td>3.5</td>\n",
       "      <td>2006-05-17 12:26:57</td>\n",
       "    </tr>\n",
       "    <tr>\n",
       "      <th>2</th>\n",
       "      <td>1</td>\n",
       "      <td>307</td>\n",
       "      <td>5.0</td>\n",
       "      <td>2006-05-17 12:27:08</td>\n",
       "    </tr>\n",
       "    <tr>\n",
       "      <th>3</th>\n",
       "      <td>1</td>\n",
       "      <td>665</td>\n",
       "      <td>5.0</td>\n",
       "      <td>2006-05-17 15:13:40</td>\n",
       "    </tr>\n",
       "    <tr>\n",
       "      <th>4</th>\n",
       "      <td>1</td>\n",
       "      <td>899</td>\n",
       "      <td>3.5</td>\n",
       "      <td>2006-05-17 12:21:50</td>\n",
       "    </tr>\n",
       "  </tbody>\n",
       "</table>\n",
       "</div>"
      ],
      "text/plain": [
       "   userId  movieId  rating           timestamp\n",
       "0       1      296     5.0 2006-05-17 15:34:04\n",
       "1       1      306     3.5 2006-05-17 12:26:57\n",
       "2       1      307     5.0 2006-05-17 12:27:08\n",
       "3       1      665     5.0 2006-05-17 15:13:40\n",
       "4       1      899     3.5 2006-05-17 12:21:50"
      ]
     },
     "execution_count": 6,
     "metadata": {},
     "output_type": "execute_result"
    }
   ],
   "source": [
    "# Import ratings data\n",
    "ratings_data = pd.read_csv(\"./ml-25m/ratings.csv\")\n",
    "ratings_data.timestamp = pd.to_datetime(ratings_data.timestamp, unit='s')\n",
    "ratings_data.shape\n",
    "ratings_data.head()"
   ]
  },
  {
   "cell_type": "code",
   "execution_count": 7,
   "metadata": {
    "colab": {
     "base_uri": "https://localhost:8080/"
    },
    "execution": {
     "iopub.execute_input": "2023-03-18T06:53:11.231293Z",
     "iopub.status.busy": "2023-03-18T06:53:11.230861Z",
     "iopub.status.idle": "2023-03-18T06:53:11.931474Z",
     "shell.execute_reply": "2023-03-18T06:53:11.930338Z",
     "shell.execute_reply.started": "2023-03-18T06:53:11.231255Z"
    },
    "id": "ZPvBnDhuoH06",
    "outputId": "622fbeb9-02b8-4b87-b916-cb65c71bfb9e"
   },
   "outputs": [
    {
     "name": "stdout",
     "output_type": "stream",
     "text": [
      "There are 25000095 rows in the original data from 162541 users\n",
      "There are 2503205 rows in the sampled data from 16254 users\n"
     ]
    }
   ],
   "source": [
    "# User Sampling\n",
    "# Select 1/10 unique users from the original user pool due to memory limitations\n",
    "\n",
    "print(f'There are {len(ratings_data)} rows in the original data from {len(ratings_data.userId.unique())} users')\n",
    "\n",
    "rand_userIds = np.random.choice(ratings_data['userId'].unique(), size=int(len(ratings_data['userId'].unique())*0.1), replace=False)\n",
    "ratings_data = ratings_data.loc[ratings_data['userId'].isin(rand_userIds)]\n",
    "\n",
    "print(f'There are {len(ratings_data)} rows in the sampled data from {len(rand_userIds)} users')"
   ]
  },
  {
   "cell_type": "code",
   "execution_count": 8,
   "metadata": {
    "colab": {
     "base_uri": "https://localhost:8080/"
    },
    "id": "ER1J58LQU5Gs",
    "outputId": "99f5f7f0-5ecf-4130-e38c-43f9a9187a34"
   },
   "outputs": [
    {
     "name": "stdout",
     "output_type": "stream",
     "text": [
      "(31646, 22)\n"
     ]
    }
   ],
   "source": [
    "# Drop Movies without any user ratings\n",
    "movies_data = movies_data[movies_data.movieId.isin(ratings_data.movieId)].reset_index(drop=True)\n",
    "print(movies_data.shape)"
   ]
  },
  {
   "cell_type": "markdown",
   "metadata": {
    "id": "m-6jt0wZoH07"
   },
   "source": [
    "### Data Cleaning"
   ]
  },
  {
   "cell_type": "code",
   "execution_count": 9,
   "metadata": {
    "colab": {
     "base_uri": "https://localhost:8080/",
     "height": 299
    },
    "execution": {
     "iopub.execute_input": "2023-03-18T06:53:11.934916Z",
     "iopub.status.busy": "2023-03-18T06:53:11.934610Z",
     "iopub.status.idle": "2023-03-18T06:53:12.306461Z",
     "shell.execute_reply": "2023-03-18T06:53:12.305366Z",
     "shell.execute_reply.started": "2023-03-18T06:53:11.934889Z"
    },
    "id": "2Yu9e12GoH07",
    "outputId": "8b261d1a-24be-48d1-ac4b-bdbef74233c0"
   },
   "outputs": [
    {
     "name": "stdout",
     "output_type": "stream",
     "text": [
      "There are 1077.0 movies with invalid year data\n"
     ]
    },
    {
     "data": {
      "image/png": "[encoded data removed]",
      "text/plain": [
       "<Figure size 1000x400 with 1 Axes>"
      ]
     },
     "metadata": {},
     "output_type": "display_data"
    }
   ],
   "source": [
    "plt.figure(figsize=(10,4))\n",
    "movies_data.iloc[:, 2:].sum().plot.barh()\n",
    "_=plt.title('Count of Records per Genre')\n",
    "\n",
    "print(f\"There are {movies_data['(no genres listed)'].sum()} movies with invalid year data\")"
   ]
  },
  {
   "cell_type": "code",
   "execution_count": 10,
   "metadata": {
    "id": "xhgZg0ud02GX"
   },
   "outputs": [],
   "source": [
    "# Drop ratings with movies without genre listed\n",
    "ratings_data = ratings_data[ratings_data.movieId.isin(movies_data[movies_data['(no genres listed)'] == 0].movieId)]"
   ]
  },
  {
   "cell_type": "code",
   "execution_count": 11,
   "metadata": {
    "colab": {
     "base_uri": "https://localhost:8080/"
    },
    "execution": {
     "iopub.execute_input": "2023-03-18T06:53:12.308276Z",
     "iopub.status.busy": "2023-03-18T06:53:12.307929Z",
     "iopub.status.idle": "2023-03-18T06:53:12.470126Z",
     "shell.execute_reply": "2023-03-18T06:53:12.469178Z",
     "shell.execute_reply.started": "2023-03-18T06:53:12.308248Z"
    },
    "id": "_8XmAKRyoH07",
    "outputId": "6d1944d8-b0cd-4fd8-b3c5-de732c362623"
   },
   "outputs": [
    {
     "name": "stdout",
     "output_type": "stream",
     "text": [
      "There are 134 movies with invalid year data\n"
     ]
    }
   ],
   "source": [
    "# Extract year from movie title and add as new feature\n",
    "# Any invalid year will be labelled '9999'\n",
    "\n",
    "movies_data_year = movies_data.title.apply(lambda x: re.findall('\\(([0-9]*)\\)\\s*$', x)[0] if len(re.findall('\\(([0-9]*)\\)\\s*$', x)) > 0 else '9999')\n",
    "movies_data['year'] = movies_data_year.astype('int64')\n",
    "\n",
    "print(f'There are {(movies_data.year == 9999).sum()} movies with invalid year data')"
   ]
  },
  {
   "cell_type": "code",
   "execution_count": 12,
   "metadata": {
    "id": "T55GhYBue-EF"
   },
   "outputs": [],
   "source": [
    "# Drop ratings with movies labelled with year 9999\n",
    "ratings_data = ratings_data[ratings_data.movieId.isin(movies_data[movies_data.year != 9999].movieId)]"
   ]
  },
  {
   "cell_type": "code",
   "execution_count": 13,
   "metadata": {
    "colab": {
     "base_uri": "https://localhost:8080/",
     "height": 281
    },
    "execution": {
     "iopub.execute_input": "2023-03-18T06:53:12.504210Z",
     "iopub.status.busy": "2023-03-18T06:53:12.503635Z",
     "iopub.status.idle": "2023-03-18T06:53:12.947476Z",
     "shell.execute_reply": "2023-03-18T06:53:12.946368Z",
     "shell.execute_reply.started": "2023-03-18T06:53:12.504173Z"
    },
    "id": "urV6UgbLoH08",
    "outputId": "e858c757-ae2b-4e97-b06a-dfb6b7ddf2ab"
   },
   "outputs": [
    {
     "data": {
      "image/png": "[encoded data removed]",
      "text/plain": [
       "<Figure size 1200x400 with 1 Axes>"
      ]
     },
     "metadata": {},
     "output_type": "display_data"
    }
   ],
   "source": [
    "plt.figure(figsize=(12,4))\n",
    "plt.barh(movies_data.year.value_counts().index, movies_data.year.value_counts().values)\n",
    "plt.ylim([1850,2023])\n",
    "_=plt.title('Movie release year distribution')"
   ]
  },
  {
   "cell_type": "code",
   "execution_count": 14,
   "metadata": {
    "execution": {
     "iopub.execute_input": "2023-03-18T06:53:12.472086Z",
     "iopub.status.busy": "2023-03-18T06:53:12.471697Z",
     "iopub.status.idle": "2023-03-18T06:53:12.502022Z",
     "shell.execute_reply": "2023-03-18T06:53:12.500824Z",
     "shell.execute_reply.started": "2023-03-18T06:53:12.472051Z"
    },
    "id": "J4zaBL9roH08"
   },
   "outputs": [],
   "source": [
    "movies_data = movies_data[movies_data.year != 9999][movies_data['(no genres listed)'] == 0].reset_index(drop=True)\n",
    "movies_data.drop(columns={'(no genres listed)'}, inplace=True)"
   ]
  },
  {
   "cell_type": "code",
   "execution_count": 15,
   "metadata": {
    "colab": {
     "base_uri": "https://localhost:8080/"
    },
    "id": "T7CZrA9Q1soQ",
    "outputId": "eb839408-8292-4f89-dc3c-97fca9e7c14a"
   },
   "outputs": [
    {
     "name": "stdout",
     "output_type": "stream",
     "text": [
      "There are 30516 movies in the ratings dataset\n",
      "There are 30516 movies in the movies dataset\n"
     ]
    }
   ],
   "source": [
    "print(f'There are {len(ratings_data.movieId.unique())} movies in the ratings dataset')\n",
    "print(f'There are {len(movies_data)} movies in the movies dataset')"
   ]
  },
  {
   "cell_type": "markdown",
   "metadata": {
    "id": "i8kxiiZn2XQa"
   },
   "source": [
    "### Exploratory Data Analysis"
   ]
  },
  {
   "cell_type": "code",
   "execution_count": 16,
   "metadata": {
    "colab": {
     "base_uri": "https://localhost:8080/",
     "height": 423
    },
    "execution": {
     "iopub.execute_input": "2023-03-18T06:53:12.949686Z",
     "iopub.status.busy": "2023-03-18T06:53:12.948744Z",
     "iopub.status.idle": "2023-03-18T06:53:13.374295Z",
     "shell.execute_reply": "2023-03-18T06:53:13.373234Z",
     "shell.execute_reply.started": "2023-03-18T06:53:12.949648Z"
    },
    "id": "-bI9N4gGoH08",
    "outputId": "44c19277-a061-40f5-a577-1b117002d731"
   },
   "outputs": [
    {
     "data": {
      "text/html": [
       "<div>\n",
       "<style scoped>\n",
       "    .dataframe tbody tr th:only-of-type {\n",
       "        vertical-align: middle;\n",
       "    }\n",
       "\n",
       "    .dataframe tbody tr th {\n",
       "        vertical-align: top;\n",
       "    }\n",
       "\n",
       "    .dataframe thead th {\n",
       "        text-align: right;\n",
       "    }\n",
       "</style>\n",
       "<table border=\"1\" class=\"dataframe\">\n",
       "  <thead>\n",
       "    <tr style=\"text-align: right;\">\n",
       "      <th></th>\n",
       "      <th>movieId</th>\n",
       "      <th>mean_rating</th>\n",
       "      <th>title</th>\n",
       "      <th>count_rating</th>\n",
       "    </tr>\n",
       "  </thead>\n",
       "  <tbody>\n",
       "    <tr>\n",
       "      <th>0</th>\n",
       "      <td>1</td>\n",
       "      <td>3.906575</td>\n",
       "      <td>Toy Story (1995)</td>\n",
       "      <td>5673</td>\n",
       "    </tr>\n",
       "    <tr>\n",
       "      <th>1</th>\n",
       "      <td>2</td>\n",
       "      <td>3.251423</td>\n",
       "      <td>Jumanji (1995)</td>\n",
       "      <td>2460</td>\n",
       "    </tr>\n",
       "    <tr>\n",
       "      <th>2</th>\n",
       "      <td>3</td>\n",
       "      <td>3.136477</td>\n",
       "      <td>Grumpier Old Men (1995)</td>\n",
       "      <td>1198</td>\n",
       "    </tr>\n",
       "    <tr>\n",
       "      <th>3</th>\n",
       "      <td>4</td>\n",
       "      <td>2.957721</td>\n",
       "      <td>Waiting to Exhale (1995)</td>\n",
       "      <td>272</td>\n",
       "    </tr>\n",
       "    <tr>\n",
       "      <th>4</th>\n",
       "      <td>5</td>\n",
       "      <td>3.014856</td>\n",
       "      <td>Father of the Bride Part II (1995)</td>\n",
       "      <td>1178</td>\n",
       "    </tr>\n",
       "    <tr>\n",
       "      <th>...</th>\n",
       "      <td>...</td>\n",
       "      <td>...</td>\n",
       "      <td>...</td>\n",
       "      <td>...</td>\n",
       "    </tr>\n",
       "    <tr>\n",
       "      <th>30511</th>\n",
       "      <td>208765</td>\n",
       "      <td>5.000000</td>\n",
       "      <td>Picture a Perfect Christmas (2019)</td>\n",
       "      <td>1</td>\n",
       "    </tr>\n",
       "    <tr>\n",
       "      <th>30512</th>\n",
       "      <td>208800</td>\n",
       "      <td>3.500000</td>\n",
       "      <td>Lady and the Tramp (2019)</td>\n",
       "      <td>1</td>\n",
       "    </tr>\n",
       "    <tr>\n",
       "      <th>30513</th>\n",
       "      <td>208843</td>\n",
       "      <td>2.500000</td>\n",
       "      <td>An Acceptable Loss (2019)</td>\n",
       "      <td>1</td>\n",
       "    </tr>\n",
       "    <tr>\n",
       "      <th>30514</th>\n",
       "      <td>209085</td>\n",
       "      <td>5.000000</td>\n",
       "      <td>The Mistletoe Secret (2019)</td>\n",
       "      <td>1</td>\n",
       "    </tr>\n",
       "    <tr>\n",
       "      <th>30515</th>\n",
       "      <td>209155</td>\n",
       "      <td>5.000000</td>\n",
       "      <td>Santosh Subramaniam (2008)</td>\n",
       "      <td>1</td>\n",
       "    </tr>\n",
       "  </tbody>\n",
       "</table>\n",
       "<p>30516 rows × 4 columns</p>\n",
       "</div>"
      ],
      "text/plain": [
       "       movieId  mean_rating                               title  count_rating\n",
       "0            1     3.906575                    Toy Story (1995)          5673\n",
       "1            2     3.251423                      Jumanji (1995)          2460\n",
       "2            3     3.136477             Grumpier Old Men (1995)          1198\n",
       "3            4     2.957721            Waiting to Exhale (1995)           272\n",
       "4            5     3.014856  Father of the Bride Part II (1995)          1178\n",
       "...        ...          ...                                 ...           ...\n",
       "30511   208765     5.000000  Picture a Perfect Christmas (2019)             1\n",
       "30512   208800     3.500000           Lady and the Tramp (2019)             1\n",
       "30513   208843     2.500000           An Acceptable Loss (2019)             1\n",
       "30514   209085     5.000000         The Mistletoe Secret (2019)             1\n",
       "30515   209155     5.000000          Santosh Subramaniam (2008)             1\n",
       "\n",
       "[30516 rows x 4 columns]"
      ]
     },
     "execution_count": 16,
     "metadata": {},
     "output_type": "execute_result"
    }
   ],
   "source": [
    "mean_ratings = ratings_data.groupby(['movieId'])['rating'].mean().reset_index().merge(movies_data.iloc[:,:2], on='movieId')\n",
    "mean_ratings.columns = ['movieId', 'mean_rating', 'title']\n",
    "\n",
    "count_ratings = ratings_data.movieId.value_counts().reset_index()\n",
    "count_ratings.columns = ['movieId', 'count_rating']\n",
    "\n",
    "ratings_aggr = mean_ratings.merge(count_ratings, on='movieId')\n",
    "ratings_aggr"
   ]
  },
  {
   "cell_type": "code",
   "execution_count": 17,
   "metadata": {
    "colab": {
     "base_uri": "https://localhost:8080/",
     "height": 423
    },
    "execution": {
     "iopub.execute_input": "2023-03-18T06:53:13.377029Z",
     "iopub.status.busy": "2023-03-18T06:53:13.375866Z",
     "iopub.status.idle": "2023-03-18T06:53:13.397343Z",
     "shell.execute_reply": "2023-03-18T06:53:13.396379Z",
     "shell.execute_reply.started": "2023-03-18T06:53:13.376983Z"
    },
    "id": "PUUlSgpEoH08",
    "outputId": "f530a773-0ba9-4023-c93a-70c641611506",
    "scrolled": true
   },
   "outputs": [
    {
     "data": {
      "text/html": [
       "<div>\n",
       "<style scoped>\n",
       "    .dataframe tbody tr th:only-of-type {\n",
       "        vertical-align: middle;\n",
       "    }\n",
       "\n",
       "    .dataframe tbody tr th {\n",
       "        vertical-align: top;\n",
       "    }\n",
       "\n",
       "    .dataframe thead th {\n",
       "        text-align: right;\n",
       "    }\n",
       "</style>\n",
       "<table border=\"1\" class=\"dataframe\">\n",
       "  <thead>\n",
       "    <tr style=\"text-align: right;\">\n",
       "      <th></th>\n",
       "      <th>movieId</th>\n",
       "      <th>mean_rating</th>\n",
       "      <th>title</th>\n",
       "      <th>count_rating</th>\n",
       "    </tr>\n",
       "  </thead>\n",
       "  <tbody>\n",
       "    <tr>\n",
       "      <th>22817</th>\n",
       "      <td>147328</td>\n",
       "      <td>4.571429</td>\n",
       "      <td>The Adventures of Sherlock Holmes and Dr. Wats...</td>\n",
       "      <td>14</td>\n",
       "    </tr>\n",
       "    <tr>\n",
       "      <th>26031</th>\n",
       "      <td>171011</td>\n",
       "      <td>4.556122</td>\n",
       "      <td>Planet Earth II (2016)</td>\n",
       "      <td>98</td>\n",
       "    </tr>\n",
       "    <tr>\n",
       "      <th>24376</th>\n",
       "      <td>159817</td>\n",
       "      <td>4.533133</td>\n",
       "      <td>Planet Earth (2006)</td>\n",
       "      <td>166</td>\n",
       "    </tr>\n",
       "    <tr>\n",
       "      <th>9434</th>\n",
       "      <td>32853</td>\n",
       "      <td>4.500000</td>\n",
       "      <td>Sorrow and the Pity, The (Le chagrin et la pit...</td>\n",
       "      <td>13</td>\n",
       "    </tr>\n",
       "    <tr>\n",
       "      <th>17492</th>\n",
       "      <td>107408</td>\n",
       "      <td>4.500000</td>\n",
       "      <td>Only Old Men Are Going to Battle (V boy idut o...</td>\n",
       "      <td>11</td>\n",
       "    </tr>\n",
       "    <tr>\n",
       "      <th>...</th>\n",
       "      <td>...</td>\n",
       "      <td>...</td>\n",
       "      <td>...</td>\n",
       "      <td>...</td>\n",
       "    </tr>\n",
       "    <tr>\n",
       "      <th>6213</th>\n",
       "      <td>6483</td>\n",
       "      <td>1.079545</td>\n",
       "      <td>From Justin to Kelly (2003)</td>\n",
       "      <td>44</td>\n",
       "    </tr>\n",
       "    <tr>\n",
       "      <th>5506</th>\n",
       "      <td>5738</td>\n",
       "      <td>1.000000</td>\n",
       "      <td>Faces of Death 5 (1996)</td>\n",
       "      <td>15</td>\n",
       "    </tr>\n",
       "    <tr>\n",
       "      <th>4577</th>\n",
       "      <td>4775</td>\n",
       "      <td>1.000000</td>\n",
       "      <td>Glitter (2001)</td>\n",
       "      <td>63</td>\n",
       "    </tr>\n",
       "    <tr>\n",
       "      <th>1714</th>\n",
       "      <td>1826</td>\n",
       "      <td>0.978723</td>\n",
       "      <td>Barney's Great Adventure (1998)</td>\n",
       "      <td>47</td>\n",
       "    </tr>\n",
       "    <tr>\n",
       "      <th>7904</th>\n",
       "      <td>8859</td>\n",
       "      <td>0.812500</td>\n",
       "      <td>SuperBabies: Baby Geniuses 2 (2004)</td>\n",
       "      <td>24</td>\n",
       "    </tr>\n",
       "  </tbody>\n",
       "</table>\n",
       "<p>10017 rows × 4 columns</p>\n",
       "</div>"
      ],
      "text/plain": [
       "       movieId  mean_rating  \\\n",
       "22817   147328     4.571429   \n",
       "26031   171011     4.556122   \n",
       "24376   159817     4.533133   \n",
       "9434     32853     4.500000   \n",
       "17492   107408     4.500000   \n",
       "...        ...          ...   \n",
       "6213      6483     1.079545   \n",
       "5506      5738     1.000000   \n",
       "4577      4775     1.000000   \n",
       "1714      1826     0.978723   \n",
       "7904      8859     0.812500   \n",
       "\n",
       "                                                   title  count_rating  \n",
       "22817  The Adventures of Sherlock Holmes and Dr. Wats...            14  \n",
       "26031                             Planet Earth II (2016)            98  \n",
       "24376                                Planet Earth (2006)           166  \n",
       "9434   Sorrow and the Pity, The (Le chagrin et la pit...            13  \n",
       "17492  Only Old Men Are Going to Battle (V boy idut o...            11  \n",
       "...                                                  ...           ...  \n",
       "6213                         From Justin to Kelly (2003)            44  \n",
       "5506                             Faces of Death 5 (1996)            15  \n",
       "4577                                      Glitter (2001)            63  \n",
       "1714                     Barney's Great Adventure (1998)            47  \n",
       "7904                 SuperBabies: Baby Geniuses 2 (2004)            24  \n",
       "\n",
       "[10017 rows x 4 columns]"
      ]
     },
     "execution_count": 17,
     "metadata": {},
     "output_type": "execute_result"
    }
   ],
   "source": [
    "ratings_aggr[ratings_aggr.count_rating > 10].sort_values('mean_rating', ascending=False)"
   ]
  },
  {
   "cell_type": "markdown",
   "metadata": {
    "id": "gc6wNXBBoH09"
   },
   "source": [
    "### Data Preprocessing"
   ]
  },
  {
   "cell_type": "markdown",
   "metadata": {
    "id": "7vMZhM_W2pSE"
   },
   "source": [
    "<img src='https://www.statology.org/wp-content/uploads/2020/11/loocv4-768x834.png' width='200' height='250'>\n",
    "\n",
    "**Leave-One-Out Methodology:** For each user, the model will be tested on the most recently rated movie, and trained on all of the movies rated prior to the most recent. "
   ]
  },
  {
   "cell_type": "code",
   "execution_count": 18,
   "metadata": {
    "colab": {
     "base_uri": "https://localhost:8080/",
     "height": 206
    },
    "execution": {
     "iopub.execute_input": "2023-03-18T06:53:13.403004Z",
     "iopub.status.busy": "2023-03-18T06:53:13.402735Z",
     "iopub.status.idle": "2023-03-18T06:53:14.810680Z",
     "shell.execute_reply": "2023-03-18T06:53:14.809452Z",
     "shell.execute_reply.started": "2023-03-18T06:53:13.402979Z"
    },
    "id": "kqjNfV6hoH09",
    "outputId": "6c15eade-3070-4ba3-9c68-b9d9eccd7afe"
   },
   "outputs": [
    {
     "data": {
      "text/html": [
       "<div>\n",
       "<style scoped>\n",
       "    .dataframe tbody tr th:only-of-type {\n",
       "        vertical-align: middle;\n",
       "    }\n",
       "\n",
       "    .dataframe tbody tr th {\n",
       "        vertical-align: top;\n",
       "    }\n",
       "\n",
       "    .dataframe thead th {\n",
       "        text-align: right;\n",
       "    }\n",
       "</style>\n",
       "<table border=\"1\" class=\"dataframe\">\n",
       "  <thead>\n",
       "    <tr style=\"text-align: right;\">\n",
       "      <th></th>\n",
       "      <th>userId</th>\n",
       "      <th>movieId</th>\n",
       "      <th>rating</th>\n",
       "      <th>timestamp</th>\n",
       "      <th>recency</th>\n",
       "    </tr>\n",
       "  </thead>\n",
       "  <tbody>\n",
       "    <tr>\n",
       "      <th>2450</th>\n",
       "      <td>13</td>\n",
       "      <td>1</td>\n",
       "      <td>4.0</td>\n",
       "      <td>2010-02-03 19:06:10</td>\n",
       "      <td>261.0</td>\n",
       "    </tr>\n",
       "    <tr>\n",
       "      <th>2451</th>\n",
       "      <td>13</td>\n",
       "      <td>19</td>\n",
       "      <td>3.5</td>\n",
       "      <td>2009-03-26 21:39:22</td>\n",
       "      <td>310.0</td>\n",
       "    </tr>\n",
       "    <tr>\n",
       "      <th>2452</th>\n",
       "      <td>13</td>\n",
       "      <td>32</td>\n",
       "      <td>4.0</td>\n",
       "      <td>2009-03-25 08:34:05</td>\n",
       "      <td>399.0</td>\n",
       "    </tr>\n",
       "    <tr>\n",
       "      <th>2453</th>\n",
       "      <td>13</td>\n",
       "      <td>34</td>\n",
       "      <td>4.0</td>\n",
       "      <td>2010-02-03 19:07:23</td>\n",
       "      <td>253.0</td>\n",
       "    </tr>\n",
       "    <tr>\n",
       "      <th>2454</th>\n",
       "      <td>13</td>\n",
       "      <td>47</td>\n",
       "      <td>4.0</td>\n",
       "      <td>2010-02-03 19:06:46</td>\n",
       "      <td>258.0</td>\n",
       "    </tr>\n",
       "  </tbody>\n",
       "</table>\n",
       "</div>"
      ],
      "text/plain": [
       "      userId  movieId  rating           timestamp  recency\n",
       "2450      13        1     4.0 2010-02-03 19:06:10    261.0\n",
       "2451      13       19     3.5 2009-03-26 21:39:22    310.0\n",
       "2452      13       32     4.0 2009-03-25 08:34:05    399.0\n",
       "2453      13       34     4.0 2010-02-03 19:07:23    253.0\n",
       "2454      13       47     4.0 2010-02-03 19:06:46    258.0"
      ]
     },
     "execution_count": 18,
     "metadata": {},
     "output_type": "execute_result"
    }
   ],
   "source": [
    "# Calcuate the recency ranking of each rating data\n",
    "ratings_data['recency'] = ratings_data.groupby(['userId'])['timestamp'].rank(method='first', ascending=False)\n",
    "ratings_data.head()"
   ]
  },
  {
   "cell_type": "code",
   "execution_count": 19,
   "metadata": {
    "execution": {
     "iopub.execute_input": "2023-03-18T06:53:14.935289Z",
     "iopub.status.busy": "2023-03-18T06:53:14.934844Z",
     "iopub.status.idle": "2023-03-18T06:53:15.317610Z",
     "shell.execute_reply": "2023-03-18T06:53:15.315806Z",
     "shell.execute_reply.started": "2023-03-18T06:53:14.935252Z"
    },
    "id": "LEE3Nus-oH09"
   },
   "outputs": [],
   "source": [
    "# Train-test Split using leave-one-out methodology\n",
    "ratings_data_test = ratings_data[ratings_data.recency == 1][['userId', 'movieId', 'rating', 'recency']]\n",
    "ratings_data_train = ratings_data[ratings_data.recency != 1][['userId', 'movieId', 'rating']]\n",
    "\n",
    "# Merge movies data to add content-based features to the input vectors\n",
    "# ratings_data_train = ratings_data_train.merge(movies_data.loc[:, movies_data.columns != 'title'], on='movieId')\n",
    "# ratings_data_test = ratings_data_test.merge(movies_data.loc[:, movies_data.columns != 'title'], on='movieId')"
   ]
  },
  {
   "cell_type": "code",
   "execution_count": 20,
   "metadata": {
    "colab": {
     "base_uri": "https://localhost:8080/",
     "height": 206
    },
    "execution": {
     "iopub.execute_input": "2023-03-18T06:53:15.320954Z",
     "iopub.status.busy": "2023-03-18T06:53:15.319938Z",
     "iopub.status.idle": "2023-03-18T06:53:15.347237Z",
     "shell.execute_reply": "2023-03-18T06:53:15.345160Z",
     "shell.execute_reply.started": "2023-03-18T06:53:15.320882Z"
    },
    "id": "GlaVgwosoH09",
    "outputId": "91e0a0a7-f525-4f5a-9409-81898c753d1e"
   },
   "outputs": [
    {
     "data": {
      "text/html": [
       "<div>\n",
       "<style scoped>\n",
       "    .dataframe tbody tr th:only-of-type {\n",
       "        vertical-align: middle;\n",
       "    }\n",
       "\n",
       "    .dataframe tbody tr th {\n",
       "        vertical-align: top;\n",
       "    }\n",
       "\n",
       "    .dataframe thead th {\n",
       "        text-align: right;\n",
       "    }\n",
       "</style>\n",
       "<table border=\"1\" class=\"dataframe\">\n",
       "  <thead>\n",
       "    <tr style=\"text-align: right;\">\n",
       "      <th></th>\n",
       "      <th>userId</th>\n",
       "      <th>movieId</th>\n",
       "      <th>rating</th>\n",
       "      <th>recency</th>\n",
       "    </tr>\n",
       "  </thead>\n",
       "  <tbody>\n",
       "    <tr>\n",
       "      <th>2855</th>\n",
       "      <td>13</td>\n",
       "      <td>87306</td>\n",
       "      <td>3.5</td>\n",
       "      <td>1.0</td>\n",
       "    </tr>\n",
       "    <tr>\n",
       "      <th>3785</th>\n",
       "      <td>21</td>\n",
       "      <td>51255</td>\n",
       "      <td>3.5</td>\n",
       "      <td>1.0</td>\n",
       "    </tr>\n",
       "    <tr>\n",
       "      <th>4335</th>\n",
       "      <td>25</td>\n",
       "      <td>509</td>\n",
       "      <td>5.0</td>\n",
       "      <td>1.0</td>\n",
       "    </tr>\n",
       "    <tr>\n",
       "      <th>6376</th>\n",
       "      <td>45</td>\n",
       "      <td>861</td>\n",
       "      <td>4.0</td>\n",
       "      <td>1.0</td>\n",
       "    </tr>\n",
       "    <tr>\n",
       "      <th>11803</th>\n",
       "      <td>85</td>\n",
       "      <td>263</td>\n",
       "      <td>4.0</td>\n",
       "      <td>1.0</td>\n",
       "    </tr>\n",
       "  </tbody>\n",
       "</table>\n",
       "</div>"
      ],
      "text/plain": [
       "       userId  movieId  rating  recency\n",
       "2855       13    87306     3.5      1.0\n",
       "3785       21    51255     3.5      1.0\n",
       "4335       25      509     5.0      1.0\n",
       "6376       45      861     4.0      1.0\n",
       "11803      85      263     4.0      1.0"
      ]
     },
     "execution_count": 20,
     "metadata": {},
     "output_type": "execute_result"
    }
   ],
   "source": [
    "ratings_data_test.head()"
   ]
  },
  {
   "cell_type": "markdown",
   "metadata": {
    "id": "ZaDU3rpH5Fa_"
   },
   "source": [
    "Convert **Explicit Feedback** ratings data to **Implicit Feedback** by converting the *rating* metric (0 to 5) to *interacted* metric (0 or 1). We will then create a model that predicts the probability that a given user will interact with a movie/item (which can represent clicking on a thumbnail, searching for a movie, watching the movie, etc.) instead of predicting what rating a user will give a movie."
   ]
  },
  {
   "cell_type": "code",
   "execution_count": 21,
   "metadata": {
    "execution": {
     "iopub.execute_input": "2023-03-18T06:53:15.354962Z",
     "iopub.status.busy": "2023-03-18T06:53:15.354108Z",
     "iopub.status.idle": "2023-03-18T06:53:15.530571Z",
     "shell.execute_reply": "2023-03-18T06:53:15.529351Z",
     "shell.execute_reply.started": "2023-03-18T06:53:15.354910Z"
    },
    "id": "CMtjuPhGoH0-"
   },
   "outputs": [],
   "source": [
    "# Move target column to last column index\n",
    "# Convert explicit feedback to implicit feedback\n",
    "\n",
    "col = ratings_data_train.pop('rating')\n",
    "ratings_data_train = pd.concat([ratings_data_train, col], axis=1)\n",
    "\n",
    "col = ratings_data_test.pop('rating')\n",
    "ratings_data_test = pd.concat([ratings_data_test, col], axis=1)\n",
    "\n",
    "ratings_data_train.rename(columns={'rating':'interacted'})\n",
    "ratings_data_test.rename(columns={'rating':'interacted'})\n",
    "\n",
    "ratings_data_train.loc[:, 'interacted'] = 1\n",
    "ratings_data_test.loc[:, 'interacted'] = 1\n",
    "\n",
    "ratings_data_test.drop(columns={'recency'}, inplace=True)\n",
    "ratings_data_test.drop(columns={'rating'}, inplace=True)\n",
    "ratings_data_train.drop(columns={'rating'}, inplace=True)"
   ]
  },
  {
   "cell_type": "code",
   "execution_count": 22,
   "metadata": {
    "colab": {
     "base_uri": "https://localhost:8080/",
     "height": 242
    },
    "execution": {
     "iopub.execute_input": "2023-03-18T06:53:15.536514Z",
     "iopub.status.busy": "2023-03-18T06:53:15.535771Z",
     "iopub.status.idle": "2023-03-18T06:53:15.554827Z",
     "shell.execute_reply": "2023-03-18T06:53:15.553650Z",
     "shell.execute_reply.started": "2023-03-18T06:53:15.536473Z"
    },
    "id": "dN5VL9K1oH0-",
    "outputId": "8438cfb2-fca9-4c47-da85-d6de8b285a68"
   },
   "outputs": [
    {
     "name": "stdout",
     "output_type": "stream",
     "text": [
      "Shape of training data: (2483622, 3) \n",
      "\n"
     ]
    },
    {
     "data": {
      "text/html": [
       "<div>\n",
       "<style scoped>\n",
       "    .dataframe tbody tr th:only-of-type {\n",
       "        vertical-align: middle;\n",
       "    }\n",
       "\n",
       "    .dataframe tbody tr th {\n",
       "        vertical-align: top;\n",
       "    }\n",
       "\n",
       "    .dataframe thead th {\n",
       "        text-align: right;\n",
       "    }\n",
       "</style>\n",
       "<table border=\"1\" class=\"dataframe\">\n",
       "  <thead>\n",
       "    <tr style=\"text-align: right;\">\n",
       "      <th></th>\n",
       "      <th>userId</th>\n",
       "      <th>movieId</th>\n",
       "      <th>interacted</th>\n",
       "    </tr>\n",
       "  </thead>\n",
       "  <tbody>\n",
       "    <tr>\n",
       "      <th>2450</th>\n",
       "      <td>13</td>\n",
       "      <td>1</td>\n",
       "      <td>1</td>\n",
       "    </tr>\n",
       "    <tr>\n",
       "      <th>2451</th>\n",
       "      <td>13</td>\n",
       "      <td>19</td>\n",
       "      <td>1</td>\n",
       "    </tr>\n",
       "    <tr>\n",
       "      <th>2452</th>\n",
       "      <td>13</td>\n",
       "      <td>32</td>\n",
       "      <td>1</td>\n",
       "    </tr>\n",
       "    <tr>\n",
       "      <th>2453</th>\n",
       "      <td>13</td>\n",
       "      <td>34</td>\n",
       "      <td>1</td>\n",
       "    </tr>\n",
       "    <tr>\n",
       "      <th>2454</th>\n",
       "      <td>13</td>\n",
       "      <td>47</td>\n",
       "      <td>1</td>\n",
       "    </tr>\n",
       "  </tbody>\n",
       "</table>\n",
       "</div>"
      ],
      "text/plain": [
       "      userId  movieId  interacted\n",
       "2450      13        1           1\n",
       "2451      13       19           1\n",
       "2452      13       32           1\n",
       "2453      13       34           1\n",
       "2454      13       47           1"
      ]
     },
     "execution_count": 22,
     "metadata": {},
     "output_type": "execute_result"
    }
   ],
   "source": [
    "# Final Training Data\n",
    "print(f'Shape of training data: {ratings_data_train.shape} \\n')\n",
    "ratings_data_train.head()"
   ]
  },
  {
   "cell_type": "markdown",
   "metadata": {
    "id": "pY935L5w7Rmg"
   },
   "source": [
    "### Pre-Model Transformations"
   ]
  },
  {
   "cell_type": "markdown",
   "metadata": {
    "id": "PfJPrKoB7lpr"
   },
   "source": [
    "**NCF General Framework** [2]"
   ]
  },
  {
   "cell_type": "markdown",
   "metadata": {
    "id": "NaBbon9KoH0-"
   },
   "source": [
    "<img src=\"https://i.ibb.co/m869ZFR/Recommender-System-Architecture.png\"  width=\"60%\" height=\"30%\">"
   ]
  },
  {
   "cell_type": "code",
   "execution_count": 23,
   "metadata": {
    "colab": {
     "base_uri": "https://localhost:8080/",
     "height": 423
    },
    "id": "0KfLV-FcRNcj",
    "outputId": "b6ca01eb-9ade-4e22-e3c4-1e27b4905b19"
   },
   "outputs": [
    {
     "data": {
      "text/html": [
       "<div>\n",
       "<style scoped>\n",
       "    .dataframe tbody tr th:only-of-type {\n",
       "        vertical-align: middle;\n",
       "    }\n",
       "\n",
       "    .dataframe tbody tr th {\n",
       "        vertical-align: top;\n",
       "    }\n",
       "\n",
       "    .dataframe thead th {\n",
       "        text-align: right;\n",
       "    }\n",
       "</style>\n",
       "<table border=\"1\" class=\"dataframe\">\n",
       "  <thead>\n",
       "    <tr style=\"text-align: right;\">\n",
       "      <th></th>\n",
       "      <th>Adventure</th>\n",
       "      <th>Animation</th>\n",
       "      <th>Children</th>\n",
       "      <th>Comedy</th>\n",
       "      <th>Fantasy</th>\n",
       "      <th>Romance</th>\n",
       "      <th>Drama</th>\n",
       "      <th>Action</th>\n",
       "      <th>Crime</th>\n",
       "      <th>Thriller</th>\n",
       "      <th>Horror</th>\n",
       "      <th>Mystery</th>\n",
       "      <th>Sci-Fi</th>\n",
       "      <th>IMAX</th>\n",
       "      <th>Documentary</th>\n",
       "      <th>War</th>\n",
       "      <th>Musical</th>\n",
       "      <th>Western</th>\n",
       "      <th>Film-Noir</th>\n",
       "    </tr>\n",
       "  </thead>\n",
       "  <tbody>\n",
       "    <tr>\n",
       "      <th>0</th>\n",
       "      <td>1.0</td>\n",
       "      <td>1.0</td>\n",
       "      <td>1.0</td>\n",
       "      <td>1.0</td>\n",
       "      <td>1.0</td>\n",
       "      <td>0.0</td>\n",
       "      <td>0.0</td>\n",
       "      <td>0.0</td>\n",
       "      <td>0.0</td>\n",
       "      <td>0.0</td>\n",
       "      <td>0.0</td>\n",
       "      <td>0.0</td>\n",
       "      <td>0.0</td>\n",
       "      <td>0.0</td>\n",
       "      <td>0.0</td>\n",
       "      <td>0.0</td>\n",
       "      <td>0.0</td>\n",
       "      <td>0.0</td>\n",
       "      <td>0.0</td>\n",
       "    </tr>\n",
       "    <tr>\n",
       "      <th>1</th>\n",
       "      <td>1.0</td>\n",
       "      <td>0.0</td>\n",
       "      <td>1.0</td>\n",
       "      <td>0.0</td>\n",
       "      <td>1.0</td>\n",
       "      <td>0.0</td>\n",
       "      <td>0.0</td>\n",
       "      <td>0.0</td>\n",
       "      <td>0.0</td>\n",
       "      <td>0.0</td>\n",
       "      <td>0.0</td>\n",
       "      <td>0.0</td>\n",
       "      <td>0.0</td>\n",
       "      <td>0.0</td>\n",
       "      <td>0.0</td>\n",
       "      <td>0.0</td>\n",
       "      <td>0.0</td>\n",
       "      <td>0.0</td>\n",
       "      <td>0.0</td>\n",
       "    </tr>\n",
       "    <tr>\n",
       "      <th>2</th>\n",
       "      <td>0.0</td>\n",
       "      <td>0.0</td>\n",
       "      <td>0.0</td>\n",
       "      <td>1.0</td>\n",
       "      <td>0.0</td>\n",
       "      <td>1.0</td>\n",
       "      <td>0.0</td>\n",
       "      <td>0.0</td>\n",
       "      <td>0.0</td>\n",
       "      <td>0.0</td>\n",
       "      <td>0.0</td>\n",
       "      <td>0.0</td>\n",
       "      <td>0.0</td>\n",
       "      <td>0.0</td>\n",
       "      <td>0.0</td>\n",
       "      <td>0.0</td>\n",
       "      <td>0.0</td>\n",
       "      <td>0.0</td>\n",
       "      <td>0.0</td>\n",
       "    </tr>\n",
       "    <tr>\n",
       "      <th>3</th>\n",
       "      <td>0.0</td>\n",
       "      <td>0.0</td>\n",
       "      <td>0.0</td>\n",
       "      <td>1.0</td>\n",
       "      <td>0.0</td>\n",
       "      <td>1.0</td>\n",
       "      <td>1.0</td>\n",
       "      <td>0.0</td>\n",
       "      <td>0.0</td>\n",
       "      <td>0.0</td>\n",
       "      <td>0.0</td>\n",
       "      <td>0.0</td>\n",
       "      <td>0.0</td>\n",
       "      <td>0.0</td>\n",
       "      <td>0.0</td>\n",
       "      <td>0.0</td>\n",
       "      <td>0.0</td>\n",
       "      <td>0.0</td>\n",
       "      <td>0.0</td>\n",
       "    </tr>\n",
       "    <tr>\n",
       "      <th>4</th>\n",
       "      <td>0.0</td>\n",
       "      <td>0.0</td>\n",
       "      <td>0.0</td>\n",
       "      <td>1.0</td>\n",
       "      <td>0.0</td>\n",
       "      <td>0.0</td>\n",
       "      <td>0.0</td>\n",
       "      <td>0.0</td>\n",
       "      <td>0.0</td>\n",
       "      <td>0.0</td>\n",
       "      <td>0.0</td>\n",
       "      <td>0.0</td>\n",
       "      <td>0.0</td>\n",
       "      <td>0.0</td>\n",
       "      <td>0.0</td>\n",
       "      <td>0.0</td>\n",
       "      <td>0.0</td>\n",
       "      <td>0.0</td>\n",
       "      <td>0.0</td>\n",
       "    </tr>\n",
       "    <tr>\n",
       "      <th>...</th>\n",
       "      <td>...</td>\n",
       "      <td>...</td>\n",
       "      <td>...</td>\n",
       "      <td>...</td>\n",
       "      <td>...</td>\n",
       "      <td>...</td>\n",
       "      <td>...</td>\n",
       "      <td>...</td>\n",
       "      <td>...</td>\n",
       "      <td>...</td>\n",
       "      <td>...</td>\n",
       "      <td>...</td>\n",
       "      <td>...</td>\n",
       "      <td>...</td>\n",
       "      <td>...</td>\n",
       "      <td>...</td>\n",
       "      <td>...</td>\n",
       "      <td>...</td>\n",
       "      <td>...</td>\n",
       "    </tr>\n",
       "    <tr>\n",
       "      <th>1406</th>\n",
       "      <td>0.0</td>\n",
       "      <td>0.0</td>\n",
       "      <td>0.0</td>\n",
       "      <td>0.0</td>\n",
       "      <td>1.0</td>\n",
       "      <td>1.0</td>\n",
       "      <td>0.0</td>\n",
       "      <td>0.0</td>\n",
       "      <td>0.0</td>\n",
       "      <td>0.0</td>\n",
       "      <td>1.0</td>\n",
       "      <td>0.0</td>\n",
       "      <td>1.0</td>\n",
       "      <td>0.0</td>\n",
       "      <td>0.0</td>\n",
       "      <td>0.0</td>\n",
       "      <td>0.0</td>\n",
       "      <td>0.0</td>\n",
       "      <td>0.0</td>\n",
       "    </tr>\n",
       "    <tr>\n",
       "      <th>1407</th>\n",
       "      <td>0.0</td>\n",
       "      <td>0.0</td>\n",
       "      <td>0.0</td>\n",
       "      <td>0.0</td>\n",
       "      <td>0.0</td>\n",
       "      <td>0.0</td>\n",
       "      <td>0.0</td>\n",
       "      <td>1.0</td>\n",
       "      <td>0.0</td>\n",
       "      <td>0.0</td>\n",
       "      <td>1.0</td>\n",
       "      <td>0.0</td>\n",
       "      <td>0.0</td>\n",
       "      <td>0.0</td>\n",
       "      <td>0.0</td>\n",
       "      <td>0.0</td>\n",
       "      <td>0.0</td>\n",
       "      <td>1.0</td>\n",
       "      <td>0.0</td>\n",
       "    </tr>\n",
       "    <tr>\n",
       "      <th>1408</th>\n",
       "      <td>1.0</td>\n",
       "      <td>0.0</td>\n",
       "      <td>1.0</td>\n",
       "      <td>1.0</td>\n",
       "      <td>0.0</td>\n",
       "      <td>0.0</td>\n",
       "      <td>0.0</td>\n",
       "      <td>0.0</td>\n",
       "      <td>0.0</td>\n",
       "      <td>0.0</td>\n",
       "      <td>1.0</td>\n",
       "      <td>0.0</td>\n",
       "      <td>0.0</td>\n",
       "      <td>0.0</td>\n",
       "      <td>0.0</td>\n",
       "      <td>0.0</td>\n",
       "      <td>0.0</td>\n",
       "      <td>0.0</td>\n",
       "      <td>0.0</td>\n",
       "    </tr>\n",
       "    <tr>\n",
       "      <th>1409</th>\n",
       "      <td>1.0</td>\n",
       "      <td>0.0</td>\n",
       "      <td>0.0</td>\n",
       "      <td>0.0</td>\n",
       "      <td>0.0</td>\n",
       "      <td>0.0</td>\n",
       "      <td>1.0</td>\n",
       "      <td>0.0</td>\n",
       "      <td>0.0</td>\n",
       "      <td>1.0</td>\n",
       "      <td>0.0</td>\n",
       "      <td>1.0</td>\n",
       "      <td>1.0</td>\n",
       "      <td>0.0</td>\n",
       "      <td>0.0</td>\n",
       "      <td>0.0</td>\n",
       "      <td>0.0</td>\n",
       "      <td>0.0</td>\n",
       "      <td>0.0</td>\n",
       "    </tr>\n",
       "    <tr>\n",
       "      <th>1410</th>\n",
       "      <td>0.0</td>\n",
       "      <td>1.0</td>\n",
       "      <td>1.0</td>\n",
       "      <td>1.0</td>\n",
       "      <td>1.0</td>\n",
       "      <td>0.0</td>\n",
       "      <td>0.0</td>\n",
       "      <td>0.0</td>\n",
       "      <td>0.0</td>\n",
       "      <td>0.0</td>\n",
       "      <td>1.0</td>\n",
       "      <td>0.0</td>\n",
       "      <td>0.0</td>\n",
       "      <td>0.0</td>\n",
       "      <td>0.0</td>\n",
       "      <td>0.0</td>\n",
       "      <td>0.0</td>\n",
       "      <td>0.0</td>\n",
       "      <td>0.0</td>\n",
       "    </tr>\n",
       "  </tbody>\n",
       "</table>\n",
       "<p>1411 rows × 19 columns</p>\n",
       "</div>"
      ],
      "text/plain": [
       "      Adventure  Animation  Children  Comedy  Fantasy  Romance  Drama  Action  \\\n",
       "0           1.0        1.0       1.0     1.0      1.0      0.0    0.0     0.0   \n",
       "1           1.0        0.0       1.0     0.0      1.0      0.0    0.0     0.0   \n",
       "2           0.0        0.0       0.0     1.0      0.0      1.0    0.0     0.0   \n",
       "3           0.0        0.0       0.0     1.0      0.0      1.0    1.0     0.0   \n",
       "4           0.0        0.0       0.0     1.0      0.0      0.0    0.0     0.0   \n",
       "...         ...        ...       ...     ...      ...      ...    ...     ...   \n",
       "1406        0.0        0.0       0.0     0.0      1.0      1.0    0.0     0.0   \n",
       "1407        0.0        0.0       0.0     0.0      0.0      0.0    0.0     1.0   \n",
       "1408        1.0        0.0       1.0     1.0      0.0      0.0    0.0     0.0   \n",
       "1409        1.0        0.0       0.0     0.0      0.0      0.0    1.0     0.0   \n",
       "1410        0.0        1.0       1.0     1.0      1.0      0.0    0.0     0.0   \n",
       "\n",
       "      Crime  Thriller  Horror  Mystery  Sci-Fi  IMAX  Documentary  War  \\\n",
       "0       0.0       0.0     0.0      0.0     0.0   0.0          0.0  0.0   \n",
       "1       0.0       0.0     0.0      0.0     0.0   0.0          0.0  0.0   \n",
       "2       0.0       0.0     0.0      0.0     0.0   0.0          0.0  0.0   \n",
       "3       0.0       0.0     0.0      0.0     0.0   0.0          0.0  0.0   \n",
       "4       0.0       0.0     0.0      0.0     0.0   0.0          0.0  0.0   \n",
       "...     ...       ...     ...      ...     ...   ...          ...  ...   \n",
       "1406    0.0       0.0     1.0      0.0     1.0   0.0          0.0  0.0   \n",
       "1407    0.0       0.0     1.0      0.0     0.0   0.0          0.0  0.0   \n",
       "1408    0.0       0.0     1.0      0.0     0.0   0.0          0.0  0.0   \n",
       "1409    0.0       1.0     0.0      1.0     1.0   0.0          0.0  0.0   \n",
       "1410    0.0       0.0     1.0      0.0     0.0   0.0          0.0  0.0   \n",
       "\n",
       "      Musical  Western  Film-Noir  \n",
       "0         0.0      0.0        0.0  \n",
       "1         0.0      0.0        0.0  \n",
       "2         0.0      0.0        0.0  \n",
       "3         0.0      0.0        0.0  \n",
       "4         0.0      0.0        0.0  \n",
       "...       ...      ...        ...  \n",
       "1406      0.0      0.0        0.0  \n",
       "1407      0.0      1.0        0.0  \n",
       "1408      0.0      0.0        0.0  \n",
       "1409      0.0      0.0        0.0  \n",
       "1410      0.0      0.0        0.0  \n",
       "\n",
       "[1411 rows x 19 columns]"
      ]
     },
     "execution_count": 23,
     "metadata": {},
     "output_type": "execute_result"
    }
   ],
   "source": [
    "# Create a lookup table where each column represent a movie genre and the indices represent corresponding feature encoding for each genre combination\n",
    "movie_features_lookup = movies_data.iloc[:, 2:-1].drop_duplicates().reset_index(drop=True)\n",
    "movie_features_lookup"
   ]
  },
  {
   "cell_type": "code",
   "execution_count": 24,
   "metadata": {
    "id": "cRb6O6nZKug6"
   },
   "outputs": [],
   "source": [
    "# Convert to np array for faster execution\n",
    "movie_features_lookup = movie_features_lookup.values"
   ]
  },
  {
   "cell_type": "code",
   "execution_count": 25,
   "metadata": {
    "id": "DZ6CWdRvS5z8"
   },
   "outputs": [],
   "source": [
    "def encode_movie_features(movie_feature, movie_features_lookup = movie_features_lookup):\n",
    "    return np.where(np.all(movie_features_lookup == movie_feature, axis=1))[0][0]"
   ]
  },
  {
   "cell_type": "code",
   "execution_count": 26,
   "metadata": {
    "id": "s-aXJtb4pBet"
   },
   "outputs": [],
   "source": [
    "# All unique movies in the dataset\n",
    "all_movieIds = movies_data['movieId'].unique()"
   ]
  },
  {
   "cell_type": "markdown",
   "metadata": {
    "id": "cq5vhS559foy"
   },
   "source": [
    "**Generate Negative Samples**: All of our ratings data represent positive samples (i.e., movies the user has interacted with), we need to generate negative samples for the model as well."
   ]
  },
  {
   "cell_type": "code",
   "execution_count": 27,
   "metadata": {
    "colab": {
     "base_uri": "https://localhost:8080/"
    },
    "execution": {
     "iopub.execute_input": "2023-03-18T06:53:15.559653Z",
     "iopub.status.busy": "2023-03-18T06:53:15.559268Z",
     "iopub.status.idle": "2023-03-18T06:53:17.636526Z",
     "shell.execute_reply": "2023-03-18T06:53:17.635484Z",
     "shell.execute_reply.started": "2023-03-18T06:53:15.559617Z"
    },
    "id": "OsOm9TZZoH0-",
    "outputId": "53820da5-f010-40a6-dd90-6817d5ed2904"
   },
   "outputs": [
    {
     "data": {
      "text/plain": [
       "userId\n",
       "13        [1, 19, 32, 34, 47, 60, 70, 104, 110, 112, 141...\n",
       "21        [260, 293, 318, 527, 541, 589, 741, 750, 778, ...\n",
       "25        [16, 17, 19, 21, 25, 36, 39, 47, 50, 52, 110, ...\n",
       "45        [82, 83, 125, 140, 141, 150, 296, 380, 562, 59...\n",
       "85        [7, 11, 17, 19, 21, 25, 34, 39, 74, 105, 141, ...\n",
       "                                ...                        \n",
       "162469    [110, 260, 318, 356, 527, 589, 1036, 1196, 119...\n",
       "162511    [1088, 1197, 1680, 2145, 2161, 2193, 2248, 310...\n",
       "162523    [252, 296, 370, 466, 543, 832, 1028, 1080, 137...\n",
       "162532    [260, 296, 541, 1021, 1036, 1136, 1196, 1197, ...\n",
       "162536    [50, 296, 318, 1089, 1208, 1222, 2959, 3535, 3...\n",
       "Name: movieId, Length: 16254, dtype: object"
      ]
     },
     "execution_count": 27,
     "metadata": {},
     "output_type": "execute_result"
    }
   ],
   "source": [
    "# Series containing all the movies interacted by each user.\n",
    "user_interactions = ratings_data_train.groupby('userId')['movieId'].apply(list)\n",
    "user_interactions"
   ]
  },
  {
   "cell_type": "code",
   "execution_count": 28,
   "metadata": {
    "colab": {
     "base_uri": "https://localhost:8080/",
     "height": 349,
     "referenced_widgets": [
      "588cef06b04342548874de6175440b49",
      "b8f288a1a2554f2489fe88eba2eeae0e",
      "c9ceedc332444559839c57d672009638",
      "a9f303fbcfc14c50834c553ec0c1bfa0",
      "79dadf5599984f24838169f6dac96e0c",
      "f92f0602e273456d82a3ba977d5ba69c",
      "6a8a6e578a3a4305b7d7b9a98c281fa2",
      "75f916c110ff426a8f497dc1415e57bf",
      "2a5a2b65470b48798298d13175937e80",
      "c8c0d436a5d1476fb947adb96957ad39",
      "bcf1c1036d5a48c6adba17297be2bf2a"
     ]
    },
    "execution": {
     "iopub.execute_input": "2023-03-18T06:53:17.639028Z",
     "iopub.status.busy": "2023-03-18T06:53:17.637925Z",
     "iopub.status.idle": "2023-03-18T06:53:17.870473Z",
     "shell.execute_reply": "2023-03-18T06:53:17.869023Z",
     "shell.execute_reply.started": "2023-03-18T06:53:17.638989Z"
    },
    "id": "PragefhdoH0_",
    "outputId": "9a40b765-3f78-4c83-e2ed-aa243cd01542"
   },
   "outputs": [
    {
     "data": {
      "application/vnd.jupyter.widget-view+json": {
       "model_id": "081c83ba9ebf4c66a44148cd34d362b1",
       "version_major": 2,
       "version_minor": 0
      },
      "text/plain": [
       "  0%|          | 0/16254 [00:00<?, ?it/s]"
      ]
     },
     "metadata": {},
     "output_type": "display_data"
    }
   ],
   "source": [
    "# Series containing all the movies NOT interacted by each user.\n",
    "neg_user_interactions = []\n",
    "num_negatives = 3\n",
    "\n",
    "for u in tqdm(ratings_data_train.userId.unique()):\n",
    "\n",
    "    # Negative Samples\n",
    "    negative_samples = np.random.choice(list(set(all_movieIds) - set(user_interactions[u])), size=len(user_interactions[u]) * num_negatives)\n",
    "    neg_user_interactions.append(negative_samples)\n",
    "    \n",
    "neg_user_interactions = pd.Series(neg_user_interactions)\n",
    "neg_user_interactions.index = user_interactions.index"
   ]
  },
  {
   "cell_type": "code",
   "execution_count": 29,
   "metadata": {
    "id": "YGPO5itDLORs"
   },
   "outputs": [
    {
     "data": {
      "text/plain": [
       "userId\n",
       "13        [72386, 142821, 193761, 116539, 158613, 113705...\n",
       "21        [144786, 74740, 165103, 5051, 79010, 139620, 8...\n",
       "25        [169248, 174703, 44861, 176171, 2724, 203381, ...\n",
       "45        [170887, 8667, 109576, 161153, 74698, 80405, 1...\n",
       "85        [152656, 1289, 175937, 154911, 7241, 66295, 36...\n",
       "                                ...                        \n",
       "162469    [81411, 1504, 69387, 2128, 166906, 60579, 1776...\n",
       "162511    [174607, 36083, 70742, 86773, 5474, 6651, 1392...\n",
       "162523    [112625, 8924, 1422, 174601, 152916, 117434, 9...\n",
       "162532    [104480, 908, 174745, 173941, 121129, 69072, 1...\n",
       "162536    [4468, 37475, 143511, 42002, 88382, 33896, 195...\n",
       "Length: 16254, dtype: object"
      ]
     },
     "execution_count": 29,
     "metadata": {},
     "output_type": "execute_result"
    }
   ],
   "source": [
    "neg_user_interactions"
   ]
  },
  {
   "cell_type": "code",
   "execution_count": 30,
   "metadata": {
    "execution": {
     "iopub.status.busy": "2023-03-18T06:53:17.871872Z",
     "iopub.status.idle": "2023-03-18T06:53:17.872358Z",
     "shell.execute_reply": "2023-03-18T06:53:17.872134Z",
     "shell.execute_reply.started": "2023-03-18T06:53:17.872111Z"
    },
    "id": "tPWppKzmoH0_"
   },
   "outputs": [
    {
     "data": {
      "application/vnd.jupyter.widget-view+json": {
       "model_id": "71ba24b7d4874a87a606615278d7e7e8",
       "version_major": 2,
       "version_minor": 0
      },
      "text/plain": [
       "  0%|          | 0/1000 [00:00<?, ?it/s]"
      ]
     },
     "metadata": {},
     "output_type": "display_data"
    }
   ],
   "source": [
    "\"\"\"\n",
    "Generate Dataset (sample):\n",
    "users - User features (userId)\n",
    "items - Item features\n",
    "      - Selected item feature for this project are feature encodings based on movie genres.\n",
    "label - Whether user interacted with the corresponding user or not\n",
    "\"\"\"\n",
    "\n",
    "users, items, labels = [], [], []\n",
    "\n",
    "for u in tqdm(ratings_data_train.userId.unique()[:1000]):\n",
    "\n",
    "    users.extend([u] * (len(user_interactions[u]) + len(neg_user_interactions[u])))\n",
    "    \n",
    "    # user_interacted_movie_features = movies_data.set_index('movieId').loc[user_interactions[u]].iloc[:, 1:-1].values\n",
    "    # neg_user_interacted_movie_features = movies_data.set_index('movieId').loc[neg_user_interactions[u]].iloc[:, 1:-1].values\n",
    "\n",
    "    # items.extend(np.apply_along_axis(encode_movie_features, 1, user_interacted_movie_features).tolist())\n",
    "    # items.extend(np.apply_along_axis(encode_movie_features, 1, neg_user_interacted_movie_features).tolist())\n",
    "\n",
    "    items.extend(user_interactions[u])\n",
    "    items.extend(neg_user_interactions[u])\n",
    "    \n",
    "    labels.extend([1] * len(user_interactions[u]))\n",
    "    labels.extend([0] * len(neg_user_interactions[u]))"
   ]
  },
  {
   "cell_type": "code",
   "execution_count": 31,
   "metadata": {
    "id": "K6_uuco0HIZH"
   },
   "outputs": [
    {
     "name": "stdout",
     "output_type": "stream",
     "text": [
      "Length of user list (sample): 600632\n",
      "Length of item list (sample): 600632\n",
      "Length of label list (sample): 600632\n"
     ]
    }
   ],
   "source": [
    "print(f\"Length of user list (sample): {len(users)}\")\n",
    "print(f\"Length of item list (sample): {len(items)}\")\n",
    "print(f\"Length of label list (sample): {len(labels)}\")"
   ]
  },
  {
   "cell_type": "code",
   "execution_count": 32,
   "metadata": {
    "id": "3i40hgsb6m8T"
   },
   "outputs": [],
   "source": [
    "# def createMovieEmbedding(item, movies_data = movies_data, num_embeddings = 19, embedding_dim = 8, padding_idx = 0):\n",
    "\n",
    "#   item_embedding = nn.Embedding(num_embeddings=num_embeddings, embedding_dim=embedding_dim, padding_idx=padding_idx)\n",
    "#   input = torch.LongTensor([np.squeeze(np.argwhere(movies_data.set_index('movieId').iloc[item, 1:-1].values == 1)).tolist()])\n",
    "\n",
    "#   return item_embedding(input).mean(dim=1)"
   ]
  },
  {
   "cell_type": "code",
   "execution_count": 32,
   "metadata": {
    "id": "LXbqSAOVniml"
   },
   "outputs": [],
   "source": [
    "sample_items = [     1,     19,     32,     34,     47,     60,     70,    104,    110,\n",
    "           112,    141,    150,    153,    173,    208,    216,    231,    256,\n",
    "           260,    277,    296,    303,    318,    344,    356,    364,    367,\n",
    "           377,    432,    441,    455,    480,    520,    541,    551,    553,\n",
    "           589,    592,    593,    595,    648,    736,    745,    778,    780,\n",
    "           924,   1035,   1049,   1073,   1079,   1089,   1097,   1127,   1136,\n",
    "          1196,   1198,   1200,   1201,   1206,   1210,   1214,   1240,   1265,\n",
    "          1266,   1270,   1274,   1278,   1291,   1359,   1377,   1378,   1441,\n",
    "          1500,   1517,   1527,   1562,   1580,   1584,   1616,   1653,   1704,\n",
    "          1721,   1732,   1748,   1921,   1923,   2011,   2012,   2028,   2046,\n",
    "          2060,   2115,   2141,   2142,   2232,   2288,   2296,   2329,   2355,\n",
    "          2366,   2501,   2502,   2542,   2571,   2628,   2683,   2701,   2710,\n",
    "          2716,   2746,   2761,   2762,   2826,   2858,   2916,   2918,   2959,\n",
    "          3000,   3033,   3074,   3100,   3113,   3147,   3175,   3210,   3275,\n",
    "          3300,   3354,   3418,   3471,   3508,   3527,   3578,   3624,   3671,\n",
    "          3681,   3698,   3703,   3745,   3752,   3793,   3916,   3948,   3972,\n",
    "          3981,   3986,   3994,   3996,   4011,   4027,   4161,   4226,   4247,\n",
    "          4306,   4321,   4343,   4370,   4558,   4643,   4721,   4816,   4878,\n",
    "          4886,   4887,   4896,   4963,   4993,   5010,   5072,   5110,   5219,\n",
    "          5244,   5349,   5378,   5418,   5444,   5445,   5459,   5463,   5481,\n",
    "          5502,   5528,   5816,   5881,   5882,   5903,   5952,   5956,   5989,\n",
    "          6188,   6264,   6283,   6294,   6333,   6365,   6377,   6502,   6537,\n",
    "          6539,   6664,   6753,   6857,   6874,   6934,   6936,   6950,   6951,\n",
    "          7004,   7090,   7143,   7147,   7153,   7254,   7360,   7361,   7373,\n",
    "          7438,   7445,   7458,   7482,   8360,   8361,   8366,   8368,   8371,\n",
    "          8533,   8622,   8636,   8641,   8644,   8665,   8784,   8861,   8865,\n",
    "          8874,   8914,   8950,   8957,   8961,   8984,  26925,  27660,  27831,\n",
    "         27904,  30810,  31660,  31878,  32031,  32587,  33004,  33158,  33493,\n",
    "         33495,  33794,  33836,  34048,  34111,  34150,  34162,  34319,  34405,\n",
    "         35836,  37380,  37830,  39381,  40815,  41569,  42718,  43396,  44191,\n",
    "         44195,  44199,  44665,  45499,  45722,  46322,  46578,  47997,  48043,\n",
    "         48394,  48516,  48774,  48780,  49272,  50872,  51255,  51662,  51698,\n",
    "         52281,  52321,  52328,  52722,  52973,  53000,  53121,  53125,  53322,\n",
    "         53519,  53953,  53996,  54001,  54256,  54286,  54503,  54997,  55232,\n",
    "         55247,  55363,  55620,  55820,  55908,  56145,  56174,  56757,  57368,\n",
    "         57640,  57669,  58559,  59103,  59126,  59295,  59315,  59369,  59615,\n",
    "         59784,  60037,  60040,  60069,  60647,  60684,  60756,  61024,  61160,\n",
    "         61289,  61986,  62434,  63072,  63113,  63131,  63853,  65514,  66097,\n",
    "         66171,  66335,  67087,  67408,  68157,  68237,  68319,  68358,  68554,\n",
    "         68791,  68952,  68954,  69122,  69526,  69784,  69844,  69951,  70286,\n",
    "         70336,  71135,  71156,  71379,  71520,  71535,  72226,  72378,  72393,\n",
    "         72489,  72998,  73017,  73321,  73870,  74458,  74688,  74789,  74851,\n",
    "         76077,  76093,  76175,  77364,  77561,  77866,  78105,  78266,  78469,\n",
    "         78499,  78637,  78893,  79091,  79132,  79139,  79185,  79293,  80939,\n",
    "         81537,  81834,  81847,  82459,  82461,  82852,  83349,  84944,  86332,\n",
    "         87869,  88125,  88129,  88163,  88785,  89840,  72386, 142821, 193761,\n",
    "        116539, 158613, 113705,  86539,  26085,  26237,   1293,  47501, 174613,\n",
    "        141978, 142254,   5255,  79627, 192717,  63033,   2362,  45991, 150048,\n",
    "        189149,  32646, 167094,  82276,  59727, 135797,   3094, 182993, 105492,\n",
    "        156244, 129229, 194270, 105597, 155288,   6909,  84807, 132906,   3509,\n",
    "        196957,   2868, 148164,  45852,     11, 140525,   4442, 167018, 106906,\n",
    "         70889, 175885,   4944, 180201, 135508,   8273, 179685,  56474, 139729,\n",
    "         47455,   4755,  73713,  81156,  37824, 115828,  94410, 112743, 145094,\n",
    "         62245,  45732,   1872, 154939,  91485,  26755,  70181,  49929, 102245,\n",
    "         51077, 164536,   3083,  46848,  64234,   8574, 113855,  58367,   8236,\n",
    "           133,  81214,   4977,  59604,  82328, 191987,   6423, 173829, 176085,\n",
    "         74750, 200824, 144464,   3474, 162596, 170669,   5913, 104135]"
   ]
  },
  {
   "cell_type": "code",
   "execution_count": 33,
   "metadata": {
    "id": "kI0nx8N_PsmA"
   },
   "outputs": [
    {
     "name": "stdout",
     "output_type": "stream",
     "text": [
      "Feature Embeddings: torch.Size([512, 8])\n"
     ]
    }
   ],
   "source": [
    "item_input = torch.tensor(sample_items)\n",
    "item_embedding = nn.Embedding(num_embeddings=19, embedding_dim=8, padding_idx=0)\n",
    "\n",
    "item_input = item_input.tolist()\n",
    "feature_vector = movies_data.set_index('movieId').loc[item_input].iloc[:, 1:-1].values.tolist()\n",
    "\n",
    "feature_vector_positive_class = [torch.tensor(np.squeeze(np.argwhere(i).tolist())) for i in feature_vector]\n",
    "\n",
    "#feature_vectors = [torch.LongTensor(np.squeeze(np.argwhere(i).tolist())) for i in movies_data.set_index('movieId').loc[sample_item].iloc[:, 1:-1].values.tolist()]\n",
    "feature_embeddings = torch.stack([torch.reshape(item_embedding(i), (-1, 8)).mean(dim=0) for i in feature_vector_positive_class])\n",
    "\n",
    "#print(f'Feature Vectors: {feature_vectors}\\n')\n",
    "print(f'Feature Embeddings: {feature_embeddings.shape}')"
   ]
  },
  {
   "cell_type": "code",
   "execution_count": 35,
   "metadata": {
    "id": "z2fKV8tQLniE"
   },
   "outputs": [],
   "source": [
    "# # Free up memory\n",
    "del users, items, labels"
   ]
  },
  {
   "cell_type": "markdown",
   "metadata": {
    "id": "BYgE9WoZB2dm"
   },
   "source": [
    "### Build Model"
   ]
  },
  {
   "cell_type": "code",
   "execution_count": 36,
   "metadata": {
    "execution": {
     "iopub.status.busy": "2023-03-18T06:53:17.876029Z",
     "iopub.status.idle": "2023-03-18T06:53:17.876542Z",
     "shell.execute_reply": "2023-03-18T06:53:17.876298Z",
     "shell.execute_reply.started": "2023-03-18T06:53:17.876274Z"
    },
    "id": "T256PMNFoH0_"
   },
   "outputs": [],
   "source": [
    "class MovieLensTrainDataset(Dataset):\n",
    "\n",
    "    def __init__(self, ratings_data, user_interactions, neg_user_interactions):\n",
    "        self.users, self.items, self.labels = self.get_dataset(ratings_data, user_interactions, neg_user_interactions)\n",
    "\n",
    "    def __len__(self):\n",
    "        return len(self.users)\n",
    "  \n",
    "    def __getitem__(self, idx):\n",
    "        return self.users[idx], self.items[idx], self.labels[idx]\n",
    "\n",
    "    def get_dataset(self, ratings_data, user_interactions, neg_user_interactions):\n",
    "        users, items, labels = [], [], []\n",
    "\n",
    "        for u in tqdm(ratings_data.userId.unique()):\n",
    "\n",
    "            users.extend([u] * (len(user_interactions[u]) + len(neg_user_interactions[u])))\n",
    "            \n",
    "            # user_interacted_movie_features = movies_data.set_index('movieId').loc[user_interactions[u]].iloc[:, 1:-1].values\n",
    "            # neg_user_interacted_movie_features = movies_data.set_index('movieId').loc[neg_user_interactions[u]].iloc[:, 1:-1].values\n",
    "\n",
    "            # items.extend(np.apply_along_axis(encode_movie_features, 1, user_interacted_movie_features).tolist())\n",
    "            # items.extend(np.apply_along_axis(encode_movie_features, 1, neg_user_interacted_movie_features).tolist())\n",
    "\n",
    "            items.extend(user_interactions[u])\n",
    "            items.extend(neg_user_interactions[u])\n",
    "            \n",
    "            labels.extend([1] * len(user_interactions[u]))\n",
    "            labels.extend([0] * len(neg_user_interactions[u]))\n",
    "\n",
    "        return torch.tensor(users), torch.tensor(items, device=torch.device('cuda:0')), torch.tensor(labels)"
   ]
  },
  {
   "cell_type": "code",
   "execution_count": 37,
   "metadata": {
    "execution": {
     "iopub.status.busy": "2023-03-18T06:53:17.877986Z",
     "iopub.status.idle": "2023-03-18T06:53:17.878910Z",
     "shell.execute_reply": "2023-03-18T06:53:17.878679Z",
     "shell.execute_reply.started": "2023-03-18T06:53:17.878651Z"
    },
    "id": "PeiKbQE4oH0_"
   },
   "outputs": [],
   "source": [
    "## NEXT TASK: Training too slow! how to set all tensors to use cuda by default\n",
    "\n",
    "class NCF(pl.LightningModule):\n",
    "    \n",
    "    def __init__(self, num_users, num_items, ratings_data, user_interactions, neg_user_interactions, movies_data):\n",
    "        super().__init__()\n",
    "        self.user_embedding = nn.Embedding(num_embeddings=num_users, embedding_dim=8)\n",
    "        self.item_embedding = nn.Embedding(num_embeddings=19, embedding_dim=8, padding_idx=0)\n",
    "        self.fc1 = nn.Linear(in_features=16, out_features=64)\n",
    "        self.fc2 = nn.Linear(in_features=64, out_features=32)\n",
    "        self.output = nn.Linear(in_features=32, out_features=1)\n",
    "        self.ratings_data = ratings_data\n",
    "        self.movies_data = movies_data\n",
    "        self.user_interactions = user_interactions\n",
    "        self.neg_user_interactions = neg_user_interactions\n",
    "        \n",
    "    def forward(self, user_input, item_input):\n",
    "        item_input = item_input.tolist()\n",
    "        feature_vector = self.movies_data.set_index('movieId').loc[item_input].iloc[:, 1:-1].values.tolist()\n",
    "        feature_vector_positive_class = [torch.tensor(np.squeeze(np.argwhere(i).tolist()), device=self.device) for i in feature_vector]\n",
    "        user_embedded = self.user_embedding(user_input)\n",
    "        item_embedded = torch.stack([torch.reshape(self.item_embedding(i), (-1, 8)).mean(dim=0) for i in feature_vector_positive_class])\n",
    "        vector = torch.cat([user_embedded, item_embedded], dim=-1)\n",
    "        vector = nn.ReLU()(self.fc1(vector))\n",
    "        vector = nn.ReLU()(self.fc2(vector))\n",
    "        pred = nn.Sigmoid()(self.output(vector))\n",
    "        return pred\n",
    "    \n",
    "    def training_step(self, batch, batch_idx):\n",
    "        user_input, item_input, labels = batch\n",
    "        predicted_labels = self(user_input, item_input)\n",
    "        #loss = nn.BCEWithLogitsLoss()(predicted_labels, labels.view(-1, 1).float()) ##\n",
    "        loss = nn.BCELoss()(predicted_labels, labels.view(-1, 1).float())\n",
    "        return loss\n",
    "\n",
    "    def configure_optimizers(self):\n",
    "        return torch.optim.Adam(self.parameters())\n",
    "\n",
    "    def train_dataloader(self):\n",
    "        return DataLoader(MovieLensTrainDataset(self.ratings_data, self.user_interactions, self.neg_user_interactions),batch_size=512) #, num_workers=4 -->results to pid error in windows"
   ]
  },
  {
   "cell_type": "markdown",
   "metadata": {
    "id": "HY8bVpcTB6bn"
   },
   "source": [
    "### Train Model"
   ]
  },
  {
   "cell_type": "code",
   "execution_count": 38,
   "metadata": {
    "execution": {
     "iopub.status.busy": "2023-03-18T06:53:17.880786Z",
     "iopub.status.idle": "2023-03-18T06:53:17.881269Z",
     "shell.execute_reply": "2023-03-18T06:53:17.881037Z",
     "shell.execute_reply.started": "2023-03-18T06:53:17.881014Z"
    },
    "id": "60zrViKToH0_"
   },
   "outputs": [],
   "source": [
    "num_users = ratings_data['userId'].max()+1\n",
    "num_items = ratings_data['movieId'].max()+1 #movie_features_lookup.shape[0]\n",
    "\n",
    "# Instantiate model object / Load Data\n",
    "model = NCF(num_users, num_items, ratings_data_train, user_interactions, neg_user_interactions, movies_data)"
   ]
  },
  {
   "cell_type": "code",
   "execution_count": 39,
   "metadata": {},
   "outputs": [],
   "source": [
    "# The flag below controls whether to allow TF32 on matmul. This flag defaults to False\n",
    "# in PyTorch 1.12 and later.\n",
    "torch.backends.cuda.matmul.allow_tf32 = True\n",
    "\n",
    "# The flag below controls whether to allow TF32 on cuDNN. This flag defaults to True.\n",
    "torch.backends.cudnn.allow_tf32 = True"
   ]
  },
  {
   "cell_type": "code",
   "execution_count": 40,
   "metadata": {
    "colab": {
     "base_uri": "https://localhost:8080/",
     "height": 410,
     "referenced_widgets": [
      "fba3e9929706429eb158cc958f58162f",
      "a090a2a04e014f2fae2f20a74427ef6a",
      "00efd94dc2ac49daaf4cd85b9ac7ac1f",
      "63200b6f061f40f8af1b6e9d41ca89cc",
      "cfa71eb75820485e8f3075d16d0b7469",
      "f011ece7224e4a2ebda5edc79f767cd0",
      "c79da2cab7f34eaeb7214a5c95d34f47",
      "7e3691ef12fc4e63bc310ff52da1b229",
      "69e82c2ac3af46ac94995b76acf19198",
      "6b3c1d0bf84a48ce84825b743f9634fc",
      "870696dfddde4ac3be3f669833a07985",
      "7f50eeee47fc4d619f45c6b0f6e4d6b7",
      "ed67c458a0e4488487bf0b5d89eca782",
      "e71988ca0d7647d59a1fd4727a85d30c",
      "06f13e915f154de9971aea7d82b1804d",
      "b4418019df534648adfd4e400ae14ddc",
      "302de01dd2d8456e93e627e40f885681",
      "2bfc2ce544c740b999dd3ae2995b0ddf",
      "39d2dee7b6854ffa946874398c9280be",
      "9846ff1153fc45c2bffd05feb944a15c",
      "2990d8a913824059bf777a374aa476d3",
      "e26f9fc2825b486e932cf7d6e73748b8"
     ]
    },
    "id": "dmE0LwbbFOo5",
    "outputId": "85a9b027-e770-4e97-9785-f1a9addc2f58"
   },
   "outputs": [
    {
     "name": "stderr",
     "output_type": "stream",
     "text": [
      "GPU available: True (cuda), used: True\n",
      "TPU available: False, using: 0 TPU cores\n",
      "IPU available: False, using: 0 IPUs\n",
      "HPU available: False, using: 0 HPUs\n",
      "Restoring states from the checkpoint path at lightning_logs/version_4/checkpoints/epoch=2-step=58212.ckpt\n"
     ]
    },
    {
     "ename": "FileNotFoundError",
     "evalue": "Checkpoint file not found: lightning_logs/version_4/checkpoints/epoch=2-step=58212.ckpt",
     "output_type": "error",
     "traceback": [
      "\u001b[1;31m---------------------------------------------------------------------------\u001b[0m",
      "\u001b[1;31mFileNotFoundError\u001b[0m                         Traceback (most recent call last)",
      "Cell \u001b[1;32mIn[40], line 3\u001b[0m\n\u001b[0;32m      1\u001b[0m \u001b[38;5;66;03m# Train model\u001b[39;00m\n\u001b[0;32m      2\u001b[0m trainer \u001b[38;5;241m=\u001b[39m pl\u001b[38;5;241m.\u001b[39mTrainer(max_epochs\u001b[38;5;241m=\u001b[39m\u001b[38;5;241m6\u001b[39m, devices\u001b[38;5;241m=\u001b[39m\u001b[38;5;241m1\u001b[39m, accelerator\u001b[38;5;241m=\u001b[39m\u001b[38;5;124m\"\u001b[39m\u001b[38;5;124mgpu\u001b[39m\u001b[38;5;124m\"\u001b[39m) \u001b[38;5;66;03m#, precision=16\u001b[39;00m\n\u001b[1;32m----> 3\u001b[0m trainer\u001b[38;5;241m.\u001b[39mfit(model, ckpt_path\u001b[38;5;241m=\u001b[39m\u001b[38;5;124m'\u001b[39m\u001b[38;5;124mlightning_logs/version_4/checkpoints/epoch=2-step=58212.ckpt\u001b[39m\u001b[38;5;124m'\u001b[39m)\n",
      "File \u001b[1;32m~\\anaconda3\\Lib\\site-packages\\pytorch_lightning\\trainer\\trainer.py:545\u001b[0m, in \u001b[0;36mTrainer.fit\u001b[1;34m(self, model, train_dataloaders, val_dataloaders, datamodule, ckpt_path)\u001b[0m\n\u001b[0;32m    543\u001b[0m \u001b[38;5;28mself\u001b[39m\u001b[38;5;241m.\u001b[39mstate\u001b[38;5;241m.\u001b[39mstatus \u001b[38;5;241m=\u001b[39m TrainerStatus\u001b[38;5;241m.\u001b[39mRUNNING\n\u001b[0;32m    544\u001b[0m \u001b[38;5;28mself\u001b[39m\u001b[38;5;241m.\u001b[39mtraining \u001b[38;5;241m=\u001b[39m \u001b[38;5;28;01mTrue\u001b[39;00m\n\u001b[1;32m--> 545\u001b[0m call\u001b[38;5;241m.\u001b[39m_call_and_handle_interrupt(\n\u001b[0;32m    546\u001b[0m     \u001b[38;5;28mself\u001b[39m, \u001b[38;5;28mself\u001b[39m\u001b[38;5;241m.\u001b[39m_fit_impl, model, train_dataloaders, val_dataloaders, datamodule, ckpt_path\n\u001b[0;32m    547\u001b[0m )\n",
      "File \u001b[1;32m~\\anaconda3\\Lib\\site-packages\\pytorch_lightning\\trainer\\call.py:44\u001b[0m, in \u001b[0;36m_call_and_handle_interrupt\u001b[1;34m(trainer, trainer_fn, *args, **kwargs)\u001b[0m\n\u001b[0;32m     42\u001b[0m     \u001b[38;5;28;01mif\u001b[39;00m trainer\u001b[38;5;241m.\u001b[39mstrategy\u001b[38;5;241m.\u001b[39mlauncher \u001b[38;5;129;01mis\u001b[39;00m \u001b[38;5;129;01mnot\u001b[39;00m \u001b[38;5;28;01mNone\u001b[39;00m:\n\u001b[0;32m     43\u001b[0m         \u001b[38;5;28;01mreturn\u001b[39;00m trainer\u001b[38;5;241m.\u001b[39mstrategy\u001b[38;5;241m.\u001b[39mlauncher\u001b[38;5;241m.\u001b[39mlaunch(trainer_fn, \u001b[38;5;241m*\u001b[39margs, trainer\u001b[38;5;241m=\u001b[39mtrainer, \u001b[38;5;241m*\u001b[39m\u001b[38;5;241m*\u001b[39mkwargs)\n\u001b[1;32m---> 44\u001b[0m     \u001b[38;5;28;01mreturn\u001b[39;00m trainer_fn(\u001b[38;5;241m*\u001b[39margs, \u001b[38;5;241m*\u001b[39m\u001b[38;5;241m*\u001b[39mkwargs)\n\u001b[0;32m     46\u001b[0m \u001b[38;5;28;01mexcept\u001b[39;00m _TunerExitException:\n\u001b[0;32m     47\u001b[0m     _call_teardown_hook(trainer)\n",
      "File \u001b[1;32m~\\anaconda3\\Lib\\site-packages\\pytorch_lightning\\trainer\\trainer.py:581\u001b[0m, in \u001b[0;36mTrainer._fit_impl\u001b[1;34m(self, model, train_dataloaders, val_dataloaders, datamodule, ckpt_path)\u001b[0m\n\u001b[0;32m    574\u001b[0m \u001b[38;5;28;01massert\u001b[39;00m \u001b[38;5;28mself\u001b[39m\u001b[38;5;241m.\u001b[39mstate\u001b[38;5;241m.\u001b[39mfn \u001b[38;5;129;01mis\u001b[39;00m \u001b[38;5;129;01mnot\u001b[39;00m \u001b[38;5;28;01mNone\u001b[39;00m\n\u001b[0;32m    575\u001b[0m ckpt_path \u001b[38;5;241m=\u001b[39m \u001b[38;5;28mself\u001b[39m\u001b[38;5;241m.\u001b[39m_checkpoint_connector\u001b[38;5;241m.\u001b[39m_select_ckpt_path(\n\u001b[0;32m    576\u001b[0m     \u001b[38;5;28mself\u001b[39m\u001b[38;5;241m.\u001b[39mstate\u001b[38;5;241m.\u001b[39mfn,\n\u001b[0;32m    577\u001b[0m     ckpt_path,\n\u001b[0;32m    578\u001b[0m     model_provided\u001b[38;5;241m=\u001b[39m\u001b[38;5;28;01mTrue\u001b[39;00m,\n\u001b[0;32m    579\u001b[0m     model_connected\u001b[38;5;241m=\u001b[39m\u001b[38;5;28mself\u001b[39m\u001b[38;5;241m.\u001b[39mlightning_module \u001b[38;5;129;01mis\u001b[39;00m \u001b[38;5;129;01mnot\u001b[39;00m \u001b[38;5;28;01mNone\u001b[39;00m,\n\u001b[0;32m    580\u001b[0m )\n\u001b[1;32m--> 581\u001b[0m \u001b[38;5;28mself\u001b[39m\u001b[38;5;241m.\u001b[39m_run(model, ckpt_path\u001b[38;5;241m=\u001b[39mckpt_path)\n\u001b[0;32m    583\u001b[0m \u001b[38;5;28;01massert\u001b[39;00m \u001b[38;5;28mself\u001b[39m\u001b[38;5;241m.\u001b[39mstate\u001b[38;5;241m.\u001b[39mstopped\n\u001b[0;32m    584\u001b[0m \u001b[38;5;28mself\u001b[39m\u001b[38;5;241m.\u001b[39mtraining \u001b[38;5;241m=\u001b[39m \u001b[38;5;28;01mFalse\u001b[39;00m\n",
      "File \u001b[1;32m~\\anaconda3\\Lib\\site-packages\\pytorch_lightning\\trainer\\trainer.py:956\u001b[0m, in \u001b[0;36mTrainer._run\u001b[1;34m(self, model, ckpt_path)\u001b[0m\n\u001b[0;32m    954\u001b[0m \u001b[38;5;28;01mif\u001b[39;00m \u001b[38;5;129;01mnot\u001b[39;00m \u001b[38;5;28mself\u001b[39m\u001b[38;5;241m.\u001b[39mstrategy\u001b[38;5;241m.\u001b[39mrestore_checkpoint_after_setup:\n\u001b[0;32m    955\u001b[0m     log\u001b[38;5;241m.\u001b[39mdebug(\u001b[38;5;124mf\u001b[39m\u001b[38;5;124m\"\u001b[39m\u001b[38;5;132;01m{\u001b[39;00m\u001b[38;5;28mself\u001b[39m\u001b[38;5;241m.\u001b[39m\u001b[38;5;18m__class__\u001b[39m\u001b[38;5;241m.\u001b[39m\u001b[38;5;18m__name__\u001b[39m\u001b[38;5;132;01m}\u001b[39;00m\u001b[38;5;124m: restoring module and callbacks from checkpoint path: \u001b[39m\u001b[38;5;132;01m{\u001b[39;00mckpt_path\u001b[38;5;132;01m}\u001b[39;00m\u001b[38;5;124m\"\u001b[39m)\n\u001b[1;32m--> 956\u001b[0m     \u001b[38;5;28mself\u001b[39m\u001b[38;5;241m.\u001b[39m_checkpoint_connector\u001b[38;5;241m.\u001b[39m_restore_modules_and_callbacks(ckpt_path)\n\u001b[0;32m    958\u001b[0m log\u001b[38;5;241m.\u001b[39mdebug(\u001b[38;5;124mf\u001b[39m\u001b[38;5;124m\"\u001b[39m\u001b[38;5;132;01m{\u001b[39;00m\u001b[38;5;28mself\u001b[39m\u001b[38;5;241m.\u001b[39m\u001b[38;5;18m__class__\u001b[39m\u001b[38;5;241m.\u001b[39m\u001b[38;5;18m__name__\u001b[39m\u001b[38;5;132;01m}\u001b[39;00m\u001b[38;5;124m: configuring model\u001b[39m\u001b[38;5;124m\"\u001b[39m)\n\u001b[0;32m    959\u001b[0m call\u001b[38;5;241m.\u001b[39m_call_configure_model(\u001b[38;5;28mself\u001b[39m)\n",
      "File \u001b[1;32m~\\anaconda3\\Lib\\site-packages\\pytorch_lightning\\trainer\\connectors\\checkpoint_connector.py:395\u001b[0m, in \u001b[0;36m_CheckpointConnector._restore_modules_and_callbacks\u001b[1;34m(self, checkpoint_path)\u001b[0m\n\u001b[0;32m    393\u001b[0m \u001b[38;5;28;01mdef\u001b[39;00m \u001b[38;5;21m_restore_modules_and_callbacks\u001b[39m(\u001b[38;5;28mself\u001b[39m, checkpoint_path: Optional[_PATH] \u001b[38;5;241m=\u001b[39m \u001b[38;5;28;01mNone\u001b[39;00m) \u001b[38;5;241m-\u001b[39m\u001b[38;5;241m>\u001b[39m \u001b[38;5;28;01mNone\u001b[39;00m:\n\u001b[0;32m    394\u001b[0m     \u001b[38;5;66;03m# restore modules after setup\u001b[39;00m\n\u001b[1;32m--> 395\u001b[0m     \u001b[38;5;28mself\u001b[39m\u001b[38;5;241m.\u001b[39mresume_start(checkpoint_path)\n\u001b[0;32m    396\u001b[0m     \u001b[38;5;28mself\u001b[39m\u001b[38;5;241m.\u001b[39mrestore_model()\n\u001b[0;32m    397\u001b[0m     \u001b[38;5;28mself\u001b[39m\u001b[38;5;241m.\u001b[39mrestore_datamodule()\n",
      "File \u001b[1;32m~\\anaconda3\\Lib\\site-packages\\pytorch_lightning\\trainer\\connectors\\checkpoint_connector.py:79\u001b[0m, in \u001b[0;36m_CheckpointConnector.resume_start\u001b[1;34m(self, checkpoint_path)\u001b[0m\n\u001b[0;32m     77\u001b[0m rank_zero_info(\u001b[38;5;124mf\u001b[39m\u001b[38;5;124m\"\u001b[39m\u001b[38;5;124mRestoring states from the checkpoint path at \u001b[39m\u001b[38;5;132;01m{\u001b[39;00mcheckpoint_path\u001b[38;5;132;01m}\u001b[39;00m\u001b[38;5;124m\"\u001b[39m)\n\u001b[0;32m     78\u001b[0m \u001b[38;5;28;01mwith\u001b[39;00m pl_legacy_patch():\n\u001b[1;32m---> 79\u001b[0m     loaded_checkpoint \u001b[38;5;241m=\u001b[39m \u001b[38;5;28mself\u001b[39m\u001b[38;5;241m.\u001b[39mtrainer\u001b[38;5;241m.\u001b[39mstrategy\u001b[38;5;241m.\u001b[39mload_checkpoint(checkpoint_path)\n\u001b[0;32m     80\u001b[0m \u001b[38;5;28mself\u001b[39m\u001b[38;5;241m.\u001b[39m_loaded_checkpoint \u001b[38;5;241m=\u001b[39m _pl_migrate_checkpoint(loaded_checkpoint, checkpoint_path)\n",
      "File \u001b[1;32m~\\anaconda3\\Lib\\site-packages\\pytorch_lightning\\strategies\\strategy.py:359\u001b[0m, in \u001b[0;36mStrategy.load_checkpoint\u001b[1;34m(self, checkpoint_path)\u001b[0m\n\u001b[0;32m    357\u001b[0m \u001b[38;5;28;01mdef\u001b[39;00m \u001b[38;5;21mload_checkpoint\u001b[39m(\u001b[38;5;28mself\u001b[39m, checkpoint_path: _PATH) \u001b[38;5;241m-\u001b[39m\u001b[38;5;241m>\u001b[39m Dict[\u001b[38;5;28mstr\u001b[39m, Any]:\n\u001b[0;32m    358\u001b[0m     torch\u001b[38;5;241m.\u001b[39mcuda\u001b[38;5;241m.\u001b[39mempty_cache()\n\u001b[1;32m--> 359\u001b[0m     \u001b[38;5;28;01mreturn\u001b[39;00m \u001b[38;5;28mself\u001b[39m\u001b[38;5;241m.\u001b[39mcheckpoint_io\u001b[38;5;241m.\u001b[39mload_checkpoint(checkpoint_path)\n",
      "File \u001b[1;32m~\\anaconda3\\Lib\\site-packages\\lightning_fabric\\plugins\\io\\torch_io.py:77\u001b[0m, in \u001b[0;36mTorchCheckpointIO.load_checkpoint\u001b[1;34m(self, path, map_location)\u001b[0m\n\u001b[0;32m     75\u001b[0m fs \u001b[38;5;241m=\u001b[39m get_filesystem(path)\n\u001b[0;32m     76\u001b[0m \u001b[38;5;28;01mif\u001b[39;00m \u001b[38;5;129;01mnot\u001b[39;00m fs\u001b[38;5;241m.\u001b[39mexists(path):\n\u001b[1;32m---> 77\u001b[0m     \u001b[38;5;28;01mraise\u001b[39;00m \u001b[38;5;167;01mFileNotFoundError\u001b[39;00m(\u001b[38;5;124mf\u001b[39m\u001b[38;5;124m\"\u001b[39m\u001b[38;5;124mCheckpoint file not found: \u001b[39m\u001b[38;5;132;01m{\u001b[39;00mpath\u001b[38;5;132;01m}\u001b[39;00m\u001b[38;5;124m\"\u001b[39m)\n\u001b[0;32m     79\u001b[0m \u001b[38;5;28;01mreturn\u001b[39;00m pl_load(path, map_location\u001b[38;5;241m=\u001b[39mmap_location)\n",
      "\u001b[1;31mFileNotFoundError\u001b[0m: Checkpoint file not found: lightning_logs/version_4/checkpoints/epoch=2-step=58212.ckpt"
     ]
    }
   ],
   "source": [
    "# Train model\n",
    "trainer = pl.Trainer(max_epochs=6, devices=1, accelerator=\"gpu\") #, precision=16\n",
    "trainer.fit(model, ckpt_path='lightning_logs/version_4/checkpoints/epoch=2-step=58212.ckpt') #"
   ]
  },
  {
   "cell_type": "markdown",
   "metadata": {
    "id": "0ap6Q-dwB89-"
   },
   "source": [
    "### Evaluate Model"
   ]
  },
  {
   "cell_type": "code",
   "execution_count": 41,
   "metadata": {},
   "outputs": [
    {
     "data": {
      "text/plain": [
       "NCF(\n",
       "  (user_embedding): Embedding(162537, 8)\n",
       "  (item_embedding): Embedding(19, 8, padding_idx=0)\n",
       "  (fc1): Linear(in_features=16, out_features=64, bias=True)\n",
       "  (fc2): Linear(in_features=64, out_features=32, bias=True)\n",
       "  (output): Linear(in_features=32, out_features=1, bias=True)\n",
       ")"
      ]
     },
     "execution_count": 41,
     "metadata": {},
     "output_type": "execute_result"
    }
   ],
   "source": [
    "model.eval()"
   ]
  },
  {
   "cell_type": "code",
   "execution_count": 42,
   "metadata": {
    "execution": {
     "iopub.status.busy": "2023-03-18T06:53:17.883754Z",
     "iopub.status.idle": "2023-03-18T06:53:17.884233Z",
     "shell.execute_reply": "2023-03-18T06:53:17.884005Z",
     "shell.execute_reply.started": "2023-03-18T06:53:17.883980Z"
    },
    "id": "VojT_u2xoH1A"
   },
   "outputs": [
    {
     "data": {
      "application/vnd.jupyter.widget-view+json": {
       "model_id": "8d208773f77845e0900f05208b9c0eea",
       "version_major": 2,
       "version_minor": 0
      },
      "text/plain": [
       "  0%|          | 0/1000 [00:00<?, ?it/s]"
      ]
     },
     "metadata": {},
     "output_type": "display_data"
    }
   ],
   "source": [
    "# Generate Interaction Data for Testing\n",
    "user_interactions_test = ratings_data.groupby('userId')['movieId'].apply(list) # list of all movies the user has interacted with (both train and test)\n",
    "\n",
    "neg_user_interactions_test = []\n",
    "\n",
    "user_sample_test = sample(list(ratings_data_test.userId.unique()), 1000)\n",
    "\n",
    "for u in tqdm(user_sample_test):\n",
    "\n",
    "    # Negative Samples\n",
    "    negative_samples = sample(list(set(all_movieIds) - set(user_interactions_test[u])), 99)\n",
    "    neg_user_interactions_test.append(negative_samples)\n",
    "    \n",
    "neg_user_interactions_test = pd.Series(neg_user_interactions_test)\n",
    "neg_user_interactions_test.index = user_sample_test"
   ]
  },
  {
   "cell_type": "markdown",
   "metadata": {
    "id": "f5d8RHXdCFG-"
   },
   "source": [
    "Testing methodology: **HR@10** (Hit Ratio at 10) [1] <br>\n",
    "1. For each user, randomly select 99 items that the user has not interacted with.\n",
    "2. Combine these 99 items with the test item (the actual item that the user last interacted with). We now have 100 items. \n",
    "3. Run the model on these 100 items, and rank them according to their predicted probabilities.\n",
    "4. Select the top 10 items from the list of 100 items. If the test item is present within the top 10 items, then we say that this is a hit.\n",
    "5. Repeat the process for all users. The Hit Ratio is then the average hits."
   ]
  },
  {
   "cell_type": "code",
   "execution_count": 43,
   "metadata": {
    "execution": {
     "iopub.status.busy": "2023-03-18T06:53:17.888146Z",
     "iopub.status.idle": "2023-03-18T06:53:17.888661Z",
     "shell.execute_reply": "2023-03-18T06:53:17.888409Z",
     "shell.execute_reply.started": "2023-03-18T06:53:17.888386Z"
    },
    "id": "BghqIKktoH1A"
   },
   "outputs": [
    {
     "data": {
      "application/vnd.jupyter.widget-view+json": {
       "model_id": "302957bdde7d4e15a457deadd86c4d5e",
       "version_major": 2,
       "version_minor": 0
      },
      "text/plain": [
       "0it [00:00, ?it/s]"
      ]
     },
     "metadata": {},
     "output_type": "display_data"
    },
    {
     "name": "stdout",
     "output_type": "stream",
     "text": [
      "The Hit Ratio @ 10 is 0.12\n"
     ]
    }
   ],
   "source": [
    "# Implement HR@10\n",
    "hits = []\n",
    "for (u, neg_interacted_items) in tqdm(zip(neg_user_interactions_test.index, neg_user_interactions_test)):\n",
    "    \n",
    "    interacted_item = ratings_data_test[ratings_data_test.userId == u].movieId.values[0]\n",
    "    \n",
    "    test_items = [interacted_item] + list(neg_interacted_items)\n",
    "\n",
    "    predicted_labels = np.squeeze(model(torch.tensor([u]*100), torch.tensor(test_items)).detach().numpy())\n",
    "\n",
    "    top10_items = [test_items[i] for i in np.argsort(predicted_labels)[-10:]]\n",
    "\n",
    "    if interacted_item in top10_items:\n",
    "        hits.append(1)\n",
    "    else:\n",
    "        hits.append(0)\n",
    "        \n",
    "print(\"The Hit Ratio @ 10 is {:.2f}\".format(np.average(hits)))"
   ]
  },
  {
   "cell_type": "code",
   "execution_count": null,
   "metadata": {},
   "outputs": [],
   "source": [
    "# The Hit Ratio @ 10 is 0.39 --> BCELoss @ 2 epochs"
   ]
  },
  {
   "cell_type": "code",
   "execution_count": 44,
   "metadata": {
    "id": "X6UqEv8eQlwK"
   },
   "outputs": [
    {
     "name": "stdout",
     "output_type": "stream",
     "text": [
      "Item interacted by the user: Wolf of Wall Street, The (2013)\n"
     ]
    }
   ],
   "source": [
    "print(f'Item interacted by the user: {movies_data[movies_data.movieId == interacted_item].title.values[0]}')"
   ]
  },
  {
   "cell_type": "markdown",
   "metadata": {
    "id": "zeT4GLlFSPFm"
   },
   "source": [
    "### Check test movies and results"
   ]
  },
  {
   "cell_type": "code",
   "execution_count": 45,
   "metadata": {
    "id": "XXJpw1IERu2T"
   },
   "outputs": [
    {
     "data": {
      "text/html": [
       "<div>\n",
       "<style scoped>\n",
       "    .dataframe tbody tr th:only-of-type {\n",
       "        vertical-align: middle;\n",
       "    }\n",
       "\n",
       "    .dataframe tbody tr th {\n",
       "        vertical-align: top;\n",
       "    }\n",
       "\n",
       "    .dataframe thead th {\n",
       "        text-align: right;\n",
       "    }\n",
       "</style>\n",
       "<table border=\"1\" class=\"dataframe\">\n",
       "  <thead>\n",
       "    <tr style=\"text-align: right;\">\n",
       "      <th></th>\n",
       "      <th>movieId</th>\n",
       "      <th>title</th>\n",
       "      <th>Comedy</th>\n",
       "      <th>Drama</th>\n",
       "      <th>Crime</th>\n",
       "      <th>year</th>\n",
       "    </tr>\n",
       "  </thead>\n",
       "  <tbody>\n",
       "    <tr>\n",
       "      <th>17419</th>\n",
       "      <td>106782</td>\n",
       "      <td>Wolf of Wall Street, The (2013)</td>\n",
       "      <td>1.0</td>\n",
       "      <td>1.0</td>\n",
       "      <td>1.0</td>\n",
       "      <td>2013</td>\n",
       "    </tr>\n",
       "  </tbody>\n",
       "</table>\n",
       "</div>"
      ],
      "text/plain": [
       "       movieId                            title  Comedy  Drama  Crime  year\n",
       "17419   106782  Wolf of Wall Street, The (2013)     1.0    1.0    1.0  2013"
      ]
     },
     "execution_count": 45,
     "metadata": {},
     "output_type": "execute_result"
    }
   ],
   "source": [
    "movies_data[movies_data.movieId == interacted_item].loc[:, (movies_data[movies_data.movieId == interacted_item] != 0).any(axis=0)]"
   ]
  },
  {
   "cell_type": "code",
   "execution_count": 46,
   "metadata": {
    "id": "cs3Nk__qQXVQ"
   },
   "outputs": [
    {
     "name": "stdout",
     "output_type": "stream",
     "text": [
      "Top 10 recommended items: \n",
      "\n"
     ]
    },
    {
     "data": {
      "text/html": [
       "<div>\n",
       "<style scoped>\n",
       "    .dataframe tbody tr th:only-of-type {\n",
       "        vertical-align: middle;\n",
       "    }\n",
       "\n",
       "    .dataframe tbody tr th {\n",
       "        vertical-align: top;\n",
       "    }\n",
       "\n",
       "    .dataframe thead th {\n",
       "        text-align: right;\n",
       "    }\n",
       "</style>\n",
       "<table border=\"1\" class=\"dataframe\">\n",
       "  <thead>\n",
       "    <tr style=\"text-align: right;\">\n",
       "      <th></th>\n",
       "      <th>movieId</th>\n",
       "      <th>title</th>\n",
       "      <th>Adventure</th>\n",
       "      <th>Animation</th>\n",
       "      <th>Children</th>\n",
       "      <th>Fantasy</th>\n",
       "      <th>Action</th>\n",
       "      <th>Sci-Fi</th>\n",
       "      <th>Documentary</th>\n",
       "      <th>year</th>\n",
       "    </tr>\n",
       "  </thead>\n",
       "  <tbody>\n",
       "    <tr>\n",
       "      <th>7329</th>\n",
       "      <td>7925</td>\n",
       "      <td>Hidden Fortress, The (Kakushi-toride no san-ak...</td>\n",
       "      <td>1.0</td>\n",
       "      <td>0.0</td>\n",
       "      <td>0.0</td>\n",
       "      <td>0.0</td>\n",
       "      <td>1.0</td>\n",
       "      <td>0.0</td>\n",
       "      <td>0.0</td>\n",
       "      <td>1958</td>\n",
       "    </tr>\n",
       "    <tr>\n",
       "      <th>9048</th>\n",
       "      <td>27912</td>\n",
       "      <td>Outfoxed: Rupert Murdoch's War on Journalism (...</td>\n",
       "      <td>0.0</td>\n",
       "      <td>0.0</td>\n",
       "      <td>0.0</td>\n",
       "      <td>0.0</td>\n",
       "      <td>0.0</td>\n",
       "      <td>0.0</td>\n",
       "      <td>1.0</td>\n",
       "      <td>2004</td>\n",
       "    </tr>\n",
       "    <tr>\n",
       "      <th>13144</th>\n",
       "      <td>73276</td>\n",
       "      <td>Age of Stupid, The (2009)</td>\n",
       "      <td>0.0</td>\n",
       "      <td>0.0</td>\n",
       "      <td>0.0</td>\n",
       "      <td>0.0</td>\n",
       "      <td>0.0</td>\n",
       "      <td>0.0</td>\n",
       "      <td>1.0</td>\n",
       "      <td>2009</td>\n",
       "    </tr>\n",
       "    <tr>\n",
       "      <th>16392</th>\n",
       "      <td>98246</td>\n",
       "      <td>Seafarers, The (1953)</td>\n",
       "      <td>0.0</td>\n",
       "      <td>0.0</td>\n",
       "      <td>0.0</td>\n",
       "      <td>0.0</td>\n",
       "      <td>0.0</td>\n",
       "      <td>0.0</td>\n",
       "      <td>1.0</td>\n",
       "      <td>1953</td>\n",
       "    </tr>\n",
       "    <tr>\n",
       "      <th>17071</th>\n",
       "      <td>103784</td>\n",
       "      <td>Make Believe (2010)</td>\n",
       "      <td>0.0</td>\n",
       "      <td>0.0</td>\n",
       "      <td>0.0</td>\n",
       "      <td>0.0</td>\n",
       "      <td>0.0</td>\n",
       "      <td>0.0</td>\n",
       "      <td>1.0</td>\n",
       "      <td>2010</td>\n",
       "    </tr>\n",
       "    <tr>\n",
       "      <th>22939</th>\n",
       "      <td>148420</td>\n",
       "      <td>10.0 Earthquake (2014)</td>\n",
       "      <td>1.0</td>\n",
       "      <td>0.0</td>\n",
       "      <td>0.0</td>\n",
       "      <td>0.0</td>\n",
       "      <td>1.0</td>\n",
       "      <td>0.0</td>\n",
       "      <td>0.0</td>\n",
       "      <td>2014</td>\n",
       "    </tr>\n",
       "    <tr>\n",
       "      <th>24719</th>\n",
       "      <td>162578</td>\n",
       "      <td>Kubo and the Two Strings (2016)</td>\n",
       "      <td>1.0</td>\n",
       "      <td>1.0</td>\n",
       "      <td>1.0</td>\n",
       "      <td>1.0</td>\n",
       "      <td>0.0</td>\n",
       "      <td>0.0</td>\n",
       "      <td>0.0</td>\n",
       "      <td>2016</td>\n",
       "    </tr>\n",
       "    <tr>\n",
       "      <th>24778</th>\n",
       "      <td>162990</td>\n",
       "      <td>PSYCHO-PASS: The Movie (2016)</td>\n",
       "      <td>0.0</td>\n",
       "      <td>1.0</td>\n",
       "      <td>0.0</td>\n",
       "      <td>0.0</td>\n",
       "      <td>1.0</td>\n",
       "      <td>1.0</td>\n",
       "      <td>0.0</td>\n",
       "      <td>2016</td>\n",
       "    </tr>\n",
       "    <tr>\n",
       "      <th>28180</th>\n",
       "      <td>185647</td>\n",
       "      <td>WWE: Ladies and Gentlemen, My Name Is Paul Hey...</td>\n",
       "      <td>0.0</td>\n",
       "      <td>0.0</td>\n",
       "      <td>0.0</td>\n",
       "      <td>0.0</td>\n",
       "      <td>0.0</td>\n",
       "      <td>0.0</td>\n",
       "      <td>1.0</td>\n",
       "      <td>2014</td>\n",
       "    </tr>\n",
       "    <tr>\n",
       "      <th>29867</th>\n",
       "      <td>199183</td>\n",
       "      <td>Hybrids (2017)</td>\n",
       "      <td>0.0</td>\n",
       "      <td>1.0</td>\n",
       "      <td>0.0</td>\n",
       "      <td>0.0</td>\n",
       "      <td>0.0</td>\n",
       "      <td>0.0</td>\n",
       "      <td>0.0</td>\n",
       "      <td>2017</td>\n",
       "    </tr>\n",
       "  </tbody>\n",
       "</table>\n",
       "</div>"
      ],
      "text/plain": [
       "       movieId                                              title  Adventure  \\\n",
       "7329      7925  Hidden Fortress, The (Kakushi-toride no san-ak...        1.0   \n",
       "9048     27912  Outfoxed: Rupert Murdoch's War on Journalism (...        0.0   \n",
       "13144    73276                          Age of Stupid, The (2009)        0.0   \n",
       "16392    98246                              Seafarers, The (1953)        0.0   \n",
       "17071   103784                                Make Believe (2010)        0.0   \n",
       "22939   148420                             10.0 Earthquake (2014)        1.0   \n",
       "24719   162578                    Kubo and the Two Strings (2016)        1.0   \n",
       "24778   162990                      PSYCHO-PASS: The Movie (2016)        0.0   \n",
       "28180   185647  WWE: Ladies and Gentlemen, My Name Is Paul Hey...        0.0   \n",
       "29867   199183                                     Hybrids (2017)        0.0   \n",
       "\n",
       "       Animation  Children  Fantasy  Action  Sci-Fi  Documentary  year  \n",
       "7329         0.0       0.0      0.0     1.0     0.0          0.0  1958  \n",
       "9048         0.0       0.0      0.0     0.0     0.0          1.0  2004  \n",
       "13144        0.0       0.0      0.0     0.0     0.0          1.0  2009  \n",
       "16392        0.0       0.0      0.0     0.0     0.0          1.0  1953  \n",
       "17071        0.0       0.0      0.0     0.0     0.0          1.0  2010  \n",
       "22939        0.0       0.0      0.0     1.0     0.0          0.0  2014  \n",
       "24719        1.0       1.0      1.0     0.0     0.0          0.0  2016  \n",
       "24778        1.0       0.0      0.0     1.0     1.0          0.0  2016  \n",
       "28180        0.0       0.0      0.0     0.0     0.0          1.0  2014  \n",
       "29867        1.0       0.0      0.0     0.0     0.0          0.0  2017  "
      ]
     },
     "execution_count": 46,
     "metadata": {},
     "output_type": "execute_result"
    }
   ],
   "source": [
    "print('Top 10 recommended items: \\n')\n",
    "movies_data[movies_data.movieId.isin(top10_items)].loc[:, (movies_data[movies_data.movieId.isin(top10_items)] != 0).any(axis=0)]"
   ]
  },
  {
   "cell_type": "markdown",
   "metadata": {
    "id": "FV82IgIaPFVx"
   },
   "source": [
    "### References:\n",
    "\n",
    "1. [Loy, James, \"Deep Learning based Recommender Systems\"](https://towardsdatascience.com/deep-learning-based-recommender-systems-3d120201db7e)\n",
    "\n",
    "2. [He, et. al, \"Neural Collaborative Filtering](https://arxiv.org/abs/1708.05031)\n",
    "\n",
    "3. [Embedding a sparse vector of multiple items](https://developers.google.com/machine-learning/crash-course/embeddings/translating-to-a-lower-dimensional-space)"
   ]
  },
  {
   "cell_type": "code",
   "execution_count": null,
   "metadata": {
    "id": "acY9mCh4sNkj"
   },
   "outputs": [],
   "source": []
  }
 ],
 "metadata": {
  "accelerator": "GPU",
  "colab": {
   "provenance": []
  },
  "gpuClass": "standard",
  "kernelspec": {
   "display_name": "Python 3 (ipykernel)",
   "language": "python",
   "name": "python3"
  },
  "language_info": {
   "codemirror_mode": {
    "name": "ipython",
    "version": 3
   },
   "file_extension": ".py",
   "mimetype": "text/x-python",
   "name": "python",
   "nbconvert_exporter": "python",
   "pygments_lexer": "ipython3",
   "version": "3.11.3"
  },
  "toc": {
   "base_numbering": 1,
   "nav_menu": {},
   "number_sections": true,
   "sideBar": true,
   "skip_h1_title": false,
   "title_cell": "Table of Contents",
   "title_sidebar": "Contents",
   "toc_cell": false,
   "toc_position": {},
   "toc_section_display": true,
   "toc_window_display": true
  },
  "widgets": {
   "application/vnd.jupyter.widget-state+json": {
    "00efd94dc2ac49daaf4cd85b9ac7ac1f": {
     "model_module": "@jupyter-widgets/controls",
     "model_module_version": "1.5.0",
     "model_name": "FloatProgressModel",
     "state": {
      "_dom_classes": [],
      "_model_module": "@jupyter-widgets/controls",
      "_model_module_version": "1.5.0",
      "_model_name": "FloatProgressModel",
      "_view_count": null,
      "_view_module": "@jupyter-widgets/controls",
      "_view_module_version": "1.5.0",
      "_view_name": "ProgressView",
      "bar_style": "success",
      "description": "",
      "description_tooltip": null,
      "layout": "IPY_MODEL_7e3691ef12fc4e63bc310ff52da1b229",
      "max": 16254,
      "min": 0,
      "orientation": "horizontal",
      "style": "IPY_MODEL_69e82c2ac3af46ac94995b76acf19198",
      "value": 16254
     }
    },
    "06f13e915f154de9971aea7d82b1804d": {
     "model_module": "@jupyter-widgets/controls",
     "model_module_version": "1.5.0",
     "model_name": "HTMLModel",
     "state": {
      "_dom_classes": [],
      "_model_module": "@jupyter-widgets/controls",
      "_model_module_version": "1.5.0",
      "_model_name": "HTMLModel",
      "_view_count": null,
      "_view_module": "@jupyter-widgets/controls",
      "_view_module_version": "1.5.0",
      "_view_name": "HTMLView",
      "description": "",
      "description_tooltip": null,
      "layout": "IPY_MODEL_2990d8a913824059bf777a374aa476d3",
      "placeholder": "​",
      "style": "IPY_MODEL_e26f9fc2825b486e932cf7d6e73748b8",
      "value": " 4300/19404 [06:28&lt;22:45, 11.06it/s]"
     }
    },
    "2990d8a913824059bf777a374aa476d3": {
     "model_module": "@jupyter-widgets/base",
     "model_module_version": "1.2.0",
     "model_name": "LayoutModel",
     "state": {
      "_model_module": "@jupyter-widgets/base",
      "_model_module_version": "1.2.0",
      "_model_name": "LayoutModel",
      "_view_count": null,
      "_view_module": "@jupyter-widgets/base",
      "_view_module_version": "1.2.0",
      "_view_name": "LayoutView",
      "align_content": null,
      "align_items": null,
      "align_self": null,
      "border": null,
      "bottom": null,
      "display": null,
      "flex": null,
      "flex_flow": null,
      "grid_area": null,
      "grid_auto_columns": null,
      "grid_auto_flow": null,
      "grid_auto_rows": null,
      "grid_column": null,
      "grid_gap": null,
      "grid_row": null,
      "grid_template_areas": null,
      "grid_template_columns": null,
      "grid_template_rows": null,
      "height": null,
      "justify_content": null,
      "justify_items": null,
      "left": null,
      "margin": null,
      "max_height": null,
      "max_width": null,
      "min_height": null,
      "min_width": null,
      "object_fit": null,
      "object_position": null,
      "order": null,
      "overflow": null,
      "overflow_x": null,
      "overflow_y": null,
      "padding": null,
      "right": null,
      "top": null,
      "visibility": null,
      "width": null
     }
    },
    "2a5a2b65470b48798298d13175937e80": {
     "model_module": "@jupyter-widgets/controls",
     "model_module_version": "1.5.0",
     "model_name": "ProgressStyleModel",
     "state": {
      "_model_module": "@jupyter-widgets/controls",
      "_model_module_version": "1.5.0",
      "_model_name": "ProgressStyleModel",
      "_view_count": null,
      "_view_module": "@jupyter-widgets/base",
      "_view_module_version": "1.2.0",
      "_view_name": "StyleView",
      "bar_color": null,
      "description_width": ""
     }
    },
    "2bfc2ce544c740b999dd3ae2995b0ddf": {
     "model_module": "@jupyter-widgets/controls",
     "model_module_version": "1.5.0",
     "model_name": "DescriptionStyleModel",
     "state": {
      "_model_module": "@jupyter-widgets/controls",
      "_model_module_version": "1.5.0",
      "_model_name": "DescriptionStyleModel",
      "_view_count": null,
      "_view_module": "@jupyter-widgets/base",
      "_view_module_version": "1.2.0",
      "_view_name": "StyleView",
      "description_width": ""
     }
    },
    "302de01dd2d8456e93e627e40f885681": {
     "model_module": "@jupyter-widgets/base",
     "model_module_version": "1.2.0",
     "model_name": "LayoutModel",
     "state": {
      "_model_module": "@jupyter-widgets/base",
      "_model_module_version": "1.2.0",
      "_model_name": "LayoutModel",
      "_view_count": null,
      "_view_module": "@jupyter-widgets/base",
      "_view_module_version": "1.2.0",
      "_view_name": "LayoutView",
      "align_content": null,
      "align_items": null,
      "align_self": null,
      "border": null,
      "bottom": null,
      "display": null,
      "flex": null,
      "flex_flow": null,
      "grid_area": null,
      "grid_auto_columns": null,
      "grid_auto_flow": null,
      "grid_auto_rows": null,
      "grid_column": null,
      "grid_gap": null,
      "grid_row": null,
      "grid_template_areas": null,
      "grid_template_columns": null,
      "grid_template_rows": null,
      "height": null,
      "justify_content": null,
      "justify_items": null,
      "left": null,
      "margin": null,
      "max_height": null,
      "max_width": null,
      "min_height": null,
      "min_width": null,
      "object_fit": null,
      "object_position": null,
      "order": null,
      "overflow": null,
      "overflow_x": null,
      "overflow_y": null,
      "padding": null,
      "right": null,
      "top": null,
      "visibility": null,
      "width": null
     }
    },
    "39d2dee7b6854ffa946874398c9280be": {
     "model_module": "@jupyter-widgets/base",
     "model_module_version": "1.2.0",
     "model_name": "LayoutModel",
     "state": {
      "_model_module": "@jupyter-widgets/base",
      "_model_module_version": "1.2.0",
      "_model_name": "LayoutModel",
      "_view_count": null,
      "_view_module": "@jupyter-widgets/base",
      "_view_module_version": "1.2.0",
      "_view_name": "LayoutView",
      "align_content": null,
      "align_items": null,
      "align_self": null,
      "border": null,
      "bottom": null,
      "display": null,
      "flex": "2",
      "flex_flow": null,
      "grid_area": null,
      "grid_auto_columns": null,
      "grid_auto_flow": null,
      "grid_auto_rows": null,
      "grid_column": null,
      "grid_gap": null,
      "grid_row": null,
      "grid_template_areas": null,
      "grid_template_columns": null,
      "grid_template_rows": null,
      "height": null,
      "justify_content": null,
      "justify_items": null,
      "left": null,
      "margin": null,
      "max_height": null,
      "max_width": null,
      "min_height": null,
      "min_width": null,
      "object_fit": null,
      "object_position": null,
      "order": null,
      "overflow": null,
      "overflow_x": null,
      "overflow_y": null,
      "padding": null,
      "right": null,
      "top": null,
      "visibility": null,
      "width": null
     }
    },
    "588cef06b04342548874de6175440b49": {
     "model_module": "@jupyter-widgets/controls",
     "model_module_version": "1.5.0",
     "model_name": "HBoxModel",
     "state": {
      "_dom_classes": [],
      "_model_module": "@jupyter-widgets/controls",
      "_model_module_version": "1.5.0",
      "_model_name": "HBoxModel",
      "_view_count": null,
      "_view_module": "@jupyter-widgets/controls",
      "_view_module_version": "1.5.0",
      "_view_name": "HBoxView",
      "box_style": "",
      "children": [
       "IPY_MODEL_b8f288a1a2554f2489fe88eba2eeae0e",
       "IPY_MODEL_c9ceedc332444559839c57d672009638",
       "IPY_MODEL_a9f303fbcfc14c50834c553ec0c1bfa0"
      ],
      "layout": "IPY_MODEL_79dadf5599984f24838169f6dac96e0c"
     }
    },
    "63200b6f061f40f8af1b6e9d41ca89cc": {
     "model_module": "@jupyter-widgets/controls",
     "model_module_version": "1.5.0",
     "model_name": "HTMLModel",
     "state": {
      "_dom_classes": [],
      "_model_module": "@jupyter-widgets/controls",
      "_model_module_version": "1.5.0",
      "_model_name": "HTMLModel",
      "_view_count": null,
      "_view_module": "@jupyter-widgets/controls",
      "_view_module_version": "1.5.0",
      "_view_name": "HTMLView",
      "description": "",
      "description_tooltip": null,
      "layout": "IPY_MODEL_6b3c1d0bf84a48ce84825b743f9634fc",
      "placeholder": "​",
      "style": "IPY_MODEL_870696dfddde4ac3be3f669833a07985",
      "value": " 16254/16254 [00:01&lt;00:00, 10404.45it/s]"
     }
    },
    "69e82c2ac3af46ac94995b76acf19198": {
     "model_module": "@jupyter-widgets/controls",
     "model_module_version": "1.5.0",
     "model_name": "ProgressStyleModel",
     "state": {
      "_model_module": "@jupyter-widgets/controls",
      "_model_module_version": "1.5.0",
      "_model_name": "ProgressStyleModel",
      "_view_count": null,
      "_view_module": "@jupyter-widgets/base",
      "_view_module_version": "1.2.0",
      "_view_name": "StyleView",
      "bar_color": null,
      "description_width": ""
     }
    },
    "6a8a6e578a3a4305b7d7b9a98c281fa2": {
     "model_module": "@jupyter-widgets/controls",
     "model_module_version": "1.5.0",
     "model_name": "DescriptionStyleModel",
     "state": {
      "_model_module": "@jupyter-widgets/controls",
      "_model_module_version": "1.5.0",
      "_model_name": "DescriptionStyleModel",
      "_view_count": null,
      "_view_module": "@jupyter-widgets/base",
      "_view_module_version": "1.2.0",
      "_view_name": "StyleView",
      "description_width": ""
     }
    },
    "6b3c1d0bf84a48ce84825b743f9634fc": {
     "model_module": "@jupyter-widgets/base",
     "model_module_version": "1.2.0",
     "model_name": "LayoutModel",
     "state": {
      "_model_module": "@jupyter-widgets/base",
      "_model_module_version": "1.2.0",
      "_model_name": "LayoutModel",
      "_view_count": null,
      "_view_module": "@jupyter-widgets/base",
      "_view_module_version": "1.2.0",
      "_view_name": "LayoutView",
      "align_content": null,
      "align_items": null,
      "align_self": null,
      "border": null,
      "bottom": null,
      "display": null,
      "flex": null,
      "flex_flow": null,
      "grid_area": null,
      "grid_auto_columns": null,
      "grid_auto_flow": null,
      "grid_auto_rows": null,
      "grid_column": null,
      "grid_gap": null,
      "grid_row": null,
      "grid_template_areas": null,
      "grid_template_columns": null,
      "grid_template_rows": null,
      "height": null,
      "justify_content": null,
      "justify_items": null,
      "left": null,
      "margin": null,
      "max_height": null,
      "max_width": null,
      "min_height": null,
      "min_width": null,
      "object_fit": null,
      "object_position": null,
      "order": null,
      "overflow": null,
      "overflow_x": null,
      "overflow_y": null,
      "padding": null,
      "right": null,
      "top": null,
      "visibility": null,
      "width": null
     }
    },
    "75f916c110ff426a8f497dc1415e57bf": {
     "model_module": "@jupyter-widgets/base",
     "model_module_version": "1.2.0",
     "model_name": "LayoutModel",
     "state": {
      "_model_module": "@jupyter-widgets/base",
      "_model_module_version": "1.2.0",
      "_model_name": "LayoutModel",
      "_view_count": null,
      "_view_module": "@jupyter-widgets/base",
      "_view_module_version": "1.2.0",
      "_view_name": "LayoutView",
      "align_content": null,
      "align_items": null,
      "align_self": null,
      "border": null,
      "bottom": null,
      "display": null,
      "flex": null,
      "flex_flow": null,
      "grid_area": null,
      "grid_auto_columns": null,
      "grid_auto_flow": null,
      "grid_auto_rows": null,
      "grid_column": null,
      "grid_gap": null,
      "grid_row": null,
      "grid_template_areas": null,
      "grid_template_columns": null,
      "grid_template_rows": null,
      "height": null,
      "justify_content": null,
      "justify_items": null,
      "left": null,
      "margin": null,
      "max_height": null,
      "max_width": null,
      "min_height": null,
      "min_width": null,
      "object_fit": null,
      "object_position": null,
      "order": null,
      "overflow": null,
      "overflow_x": null,
      "overflow_y": null,
      "padding": null,
      "right": null,
      "top": null,
      "visibility": null,
      "width": null
     }
    },
    "79dadf5599984f24838169f6dac96e0c": {
     "model_module": "@jupyter-widgets/base",
     "model_module_version": "1.2.0",
     "model_name": "LayoutModel",
     "state": {
      "_model_module": "@jupyter-widgets/base",
      "_model_module_version": "1.2.0",
      "_model_name": "LayoutModel",
      "_view_count": null,
      "_view_module": "@jupyter-widgets/base",
      "_view_module_version": "1.2.0",
      "_view_name": "LayoutView",
      "align_content": null,
      "align_items": null,
      "align_self": null,
      "border": null,
      "bottom": null,
      "display": null,
      "flex": null,
      "flex_flow": null,
      "grid_area": null,
      "grid_auto_columns": null,
      "grid_auto_flow": null,
      "grid_auto_rows": null,
      "grid_column": null,
      "grid_gap": null,
      "grid_row": null,
      "grid_template_areas": null,
      "grid_template_columns": null,
      "grid_template_rows": null,
      "height": null,
      "justify_content": null,
      "justify_items": null,
      "left": null,
      "margin": null,
      "max_height": null,
      "max_width": null,
      "min_height": null,
      "min_width": null,
      "object_fit": null,
      "object_position": null,
      "order": null,
      "overflow": null,
      "overflow_x": null,
      "overflow_y": null,
      "padding": null,
      "right": null,
      "top": null,
      "visibility": null,
      "width": null
     }
    },
    "7e3691ef12fc4e63bc310ff52da1b229": {
     "model_module": "@jupyter-widgets/base",
     "model_module_version": "1.2.0",
     "model_name": "LayoutModel",
     "state": {
      "_model_module": "@jupyter-widgets/base",
      "_model_module_version": "1.2.0",
      "_model_name": "LayoutModel",
      "_view_count": null,
      "_view_module": "@jupyter-widgets/base",
      "_view_module_version": "1.2.0",
      "_view_name": "LayoutView",
      "align_content": null,
      "align_items": null,
      "align_self": null,
      "border": null,
      "bottom": null,
      "display": null,
      "flex": null,
      "flex_flow": null,
      "grid_area": null,
      "grid_auto_columns": null,
      "grid_auto_flow": null,
      "grid_auto_rows": null,
      "grid_column": null,
      "grid_gap": null,
      "grid_row": null,
      "grid_template_areas": null,
      "grid_template_columns": null,
      "grid_template_rows": null,
      "height": null,
      "justify_content": null,
      "justify_items": null,
      "left": null,
      "margin": null,
      "max_height": null,
      "max_width": null,
      "min_height": null,
      "min_width": null,
      "object_fit": null,
      "object_position": null,
      "order": null,
      "overflow": null,
      "overflow_x": null,
      "overflow_y": null,
      "padding": null,
      "right": null,
      "top": null,
      "visibility": null,
      "width": null
     }
    },
    "7f50eeee47fc4d619f45c6b0f6e4d6b7": {
     "model_module": "@jupyter-widgets/controls",
     "model_module_version": "1.5.0",
     "model_name": "HBoxModel",
     "state": {
      "_dom_classes": [],
      "_model_module": "@jupyter-widgets/controls",
      "_model_module_version": "1.5.0",
      "_model_name": "HBoxModel",
      "_view_count": null,
      "_view_module": "@jupyter-widgets/controls",
      "_view_module_version": "1.5.0",
      "_view_name": "HBoxView",
      "box_style": "",
      "children": [
       "IPY_MODEL_ed67c458a0e4488487bf0b5d89eca782",
       "IPY_MODEL_e71988ca0d7647d59a1fd4727a85d30c",
       "IPY_MODEL_06f13e915f154de9971aea7d82b1804d"
      ],
      "layout": "IPY_MODEL_b4418019df534648adfd4e400ae14ddc"
     }
    },
    "870696dfddde4ac3be3f669833a07985": {
     "model_module": "@jupyter-widgets/controls",
     "model_module_version": "1.5.0",
     "model_name": "DescriptionStyleModel",
     "state": {
      "_model_module": "@jupyter-widgets/controls",
      "_model_module_version": "1.5.0",
      "_model_name": "DescriptionStyleModel",
      "_view_count": null,
      "_view_module": "@jupyter-widgets/base",
      "_view_module_version": "1.2.0",
      "_view_name": "StyleView",
      "description_width": ""
     }
    },
    "9846ff1153fc45c2bffd05feb944a15c": {
     "model_module": "@jupyter-widgets/controls",
     "model_module_version": "1.5.0",
     "model_name": "ProgressStyleModel",
     "state": {
      "_model_module": "@jupyter-widgets/controls",
      "_model_module_version": "1.5.0",
      "_model_name": "ProgressStyleModel",
      "_view_count": null,
      "_view_module": "@jupyter-widgets/base",
      "_view_module_version": "1.2.0",
      "_view_name": "StyleView",
      "bar_color": null,
      "description_width": ""
     }
    },
    "a090a2a04e014f2fae2f20a74427ef6a": {
     "model_module": "@jupyter-widgets/controls",
     "model_module_version": "1.5.0",
     "model_name": "HTMLModel",
     "state": {
      "_dom_classes": [],
      "_model_module": "@jupyter-widgets/controls",
      "_model_module_version": "1.5.0",
      "_model_name": "HTMLModel",
      "_view_count": null,
      "_view_module": "@jupyter-widgets/controls",
      "_view_module_version": "1.5.0",
      "_view_name": "HTMLView",
      "description": "",
      "description_tooltip": null,
      "layout": "IPY_MODEL_f011ece7224e4a2ebda5edc79f767cd0",
      "placeholder": "​",
      "style": "IPY_MODEL_c79da2cab7f34eaeb7214a5c95d34f47",
      "value": "100%"
     }
    },
    "a9f303fbcfc14c50834c553ec0c1bfa0": {
     "model_module": "@jupyter-widgets/controls",
     "model_module_version": "1.5.0",
     "model_name": "HTMLModel",
     "state": {
      "_dom_classes": [],
      "_model_module": "@jupyter-widgets/controls",
      "_model_module_version": "1.5.0",
      "_model_name": "HTMLModel",
      "_view_count": null,
      "_view_module": "@jupyter-widgets/controls",
      "_view_module_version": "1.5.0",
      "_view_name": "HTMLView",
      "description": "",
      "description_tooltip": null,
      "layout": "IPY_MODEL_c8c0d436a5d1476fb947adb96957ad39",
      "placeholder": "​",
      "style": "IPY_MODEL_bcf1c1036d5a48c6adba17297be2bf2a",
      "value": " 7604/16254 [01:03&lt;00:56, 153.73it/s]"
     }
    },
    "b4418019df534648adfd4e400ae14ddc": {
     "model_module": "@jupyter-widgets/base",
     "model_module_version": "1.2.0",
     "model_name": "LayoutModel",
     "state": {
      "_model_module": "@jupyter-widgets/base",
      "_model_module_version": "1.2.0",
      "_model_name": "LayoutModel",
      "_view_count": null,
      "_view_module": "@jupyter-widgets/base",
      "_view_module_version": "1.2.0",
      "_view_name": "LayoutView",
      "align_content": null,
      "align_items": null,
      "align_self": null,
      "border": null,
      "bottom": null,
      "display": "inline-flex",
      "flex": null,
      "flex_flow": "row wrap",
      "grid_area": null,
      "grid_auto_columns": null,
      "grid_auto_flow": null,
      "grid_auto_rows": null,
      "grid_column": null,
      "grid_gap": null,
      "grid_row": null,
      "grid_template_areas": null,
      "grid_template_columns": null,
      "grid_template_rows": null,
      "height": null,
      "justify_content": null,
      "justify_items": null,
      "left": null,
      "margin": null,
      "max_height": null,
      "max_width": null,
      "min_height": null,
      "min_width": null,
      "object_fit": null,
      "object_position": null,
      "order": null,
      "overflow": null,
      "overflow_x": null,
      "overflow_y": null,
      "padding": null,
      "right": null,
      "top": null,
      "visibility": null,
      "width": "100%"
     }
    },
    "b8f288a1a2554f2489fe88eba2eeae0e": {
     "model_module": "@jupyter-widgets/controls",
     "model_module_version": "1.5.0",
     "model_name": "HTMLModel",
     "state": {
      "_dom_classes": [],
      "_model_module": "@jupyter-widgets/controls",
      "_model_module_version": "1.5.0",
      "_model_name": "HTMLModel",
      "_view_count": null,
      "_view_module": "@jupyter-widgets/controls",
      "_view_module_version": "1.5.0",
      "_view_name": "HTMLView",
      "description": "",
      "description_tooltip": null,
      "layout": "IPY_MODEL_f92f0602e273456d82a3ba977d5ba69c",
      "placeholder": "​",
      "style": "IPY_MODEL_6a8a6e578a3a4305b7d7b9a98c281fa2",
      "value": " 47%"
     }
    },
    "bcf1c1036d5a48c6adba17297be2bf2a": {
     "model_module": "@jupyter-widgets/controls",
     "model_module_version": "1.5.0",
     "model_name": "DescriptionStyleModel",
     "state": {
      "_model_module": "@jupyter-widgets/controls",
      "_model_module_version": "1.5.0",
      "_model_name": "DescriptionStyleModel",
      "_view_count": null,
      "_view_module": "@jupyter-widgets/base",
      "_view_module_version": "1.2.0",
      "_view_name": "StyleView",
      "description_width": ""
     }
    },
    "c79da2cab7f34eaeb7214a5c95d34f47": {
     "model_module": "@jupyter-widgets/controls",
     "model_module_version": "1.5.0",
     "model_name": "DescriptionStyleModel",
     "state": {
      "_model_module": "@jupyter-widgets/controls",
      "_model_module_version": "1.5.0",
      "_model_name": "DescriptionStyleModel",
      "_view_count": null,
      "_view_module": "@jupyter-widgets/base",
      "_view_module_version": "1.2.0",
      "_view_name": "StyleView",
      "description_width": ""
     }
    },
    "c8c0d436a5d1476fb947adb96957ad39": {
     "model_module": "@jupyter-widgets/base",
     "model_module_version": "1.2.0",
     "model_name": "LayoutModel",
     "state": {
      "_model_module": "@jupyter-widgets/base",
      "_model_module_version": "1.2.0",
      "_model_name": "LayoutModel",
      "_view_count": null,
      "_view_module": "@jupyter-widgets/base",
      "_view_module_version": "1.2.0",
      "_view_name": "LayoutView",
      "align_content": null,
      "align_items": null,
      "align_self": null,
      "border": null,
      "bottom": null,
      "display": null,
      "flex": null,
      "flex_flow": null,
      "grid_area": null,
      "grid_auto_columns": null,
      "grid_auto_flow": null,
      "grid_auto_rows": null,
      "grid_column": null,
      "grid_gap": null,
      "grid_row": null,
      "grid_template_areas": null,
      "grid_template_columns": null,
      "grid_template_rows": null,
      "height": null,
      "justify_content": null,
      "justify_items": null,
      "left": null,
      "margin": null,
      "max_height": null,
      "max_width": null,
      "min_height": null,
      "min_width": null,
      "object_fit": null,
      "object_position": null,
      "order": null,
      "overflow": null,
      "overflow_x": null,
      "overflow_y": null,
      "padding": null,
      "right": null,
      "top": null,
      "visibility": null,
      "width": null
     }
    },
    "c9ceedc332444559839c57d672009638": {
     "model_module": "@jupyter-widgets/controls",
     "model_module_version": "1.5.0",
     "model_name": "FloatProgressModel",
     "state": {
      "_dom_classes": [],
      "_model_module": "@jupyter-widgets/controls",
      "_model_module_version": "1.5.0",
      "_model_name": "FloatProgressModel",
      "_view_count": null,
      "_view_module": "@jupyter-widgets/controls",
      "_view_module_version": "1.5.0",
      "_view_name": "ProgressView",
      "bar_style": "danger",
      "description": "",
      "description_tooltip": null,
      "layout": "IPY_MODEL_75f916c110ff426a8f497dc1415e57bf",
      "max": 16254,
      "min": 0,
      "orientation": "horizontal",
      "style": "IPY_MODEL_2a5a2b65470b48798298d13175937e80",
      "value": 7604
     }
    },
    "cfa71eb75820485e8f3075d16d0b7469": {
     "model_module": "@jupyter-widgets/base",
     "model_module_version": "1.2.0",
     "model_name": "LayoutModel",
     "state": {
      "_model_module": "@jupyter-widgets/base",
      "_model_module_version": "1.2.0",
      "_model_name": "LayoutModel",
      "_view_count": null,
      "_view_module": "@jupyter-widgets/base",
      "_view_module_version": "1.2.0",
      "_view_name": "LayoutView",
      "align_content": null,
      "align_items": null,
      "align_self": null,
      "border": null,
      "bottom": null,
      "display": null,
      "flex": null,
      "flex_flow": null,
      "grid_area": null,
      "grid_auto_columns": null,
      "grid_auto_flow": null,
      "grid_auto_rows": null,
      "grid_column": null,
      "grid_gap": null,
      "grid_row": null,
      "grid_template_areas": null,
      "grid_template_columns": null,
      "grid_template_rows": null,
      "height": null,
      "justify_content": null,
      "justify_items": null,
      "left": null,
      "margin": null,
      "max_height": null,
      "max_width": null,
      "min_height": null,
      "min_width": null,
      "object_fit": null,
      "object_position": null,
      "order": null,
      "overflow": null,
      "overflow_x": null,
      "overflow_y": null,
      "padding": null,
      "right": null,
      "top": null,
      "visibility": null,
      "width": null
     }
    },
    "e26f9fc2825b486e932cf7d6e73748b8": {
     "model_module": "@jupyter-widgets/controls",
     "model_module_version": "1.5.0",
     "model_name": "DescriptionStyleModel",
     "state": {
      "_model_module": "@jupyter-widgets/controls",
      "_model_module_version": "1.5.0",
      "_model_name": "DescriptionStyleModel",
      "_view_count": null,
      "_view_module": "@jupyter-widgets/base",
      "_view_module_version": "1.2.0",
      "_view_name": "StyleView",
      "description_width": ""
     }
    },
    "e71988ca0d7647d59a1fd4727a85d30c": {
     "model_module": "@jupyter-widgets/controls",
     "model_module_version": "1.5.0",
     "model_name": "FloatProgressModel",
     "state": {
      "_dom_classes": [],
      "_model_module": "@jupyter-widgets/controls",
      "_model_module_version": "1.5.0",
      "_model_name": "FloatProgressModel",
      "_view_count": null,
      "_view_module": "@jupyter-widgets/controls",
      "_view_module_version": "1.5.0",
      "_view_name": "ProgressView",
      "bar_style": "",
      "description": "",
      "description_tooltip": null,
      "layout": "IPY_MODEL_39d2dee7b6854ffa946874398c9280be",
      "max": 19404,
      "min": 0,
      "orientation": "horizontal",
      "style": "IPY_MODEL_9846ff1153fc45c2bffd05feb944a15c",
      "value": 4320
     }
    },
    "ed67c458a0e4488487bf0b5d89eca782": {
     "model_module": "@jupyter-widgets/controls",
     "model_module_version": "1.5.0",
     "model_name": "HTMLModel",
     "state": {
      "_dom_classes": [],
      "_model_module": "@jupyter-widgets/controls",
      "_model_module_version": "1.5.0",
      "_model_name": "HTMLModel",
      "_view_count": null,
      "_view_module": "@jupyter-widgets/controls",
      "_view_module_version": "1.5.0",
      "_view_name": "HTMLView",
      "description": "",
      "description_tooltip": null,
      "layout": "IPY_MODEL_302de01dd2d8456e93e627e40f885681",
      "placeholder": "​",
      "style": "IPY_MODEL_2bfc2ce544c740b999dd3ae2995b0ddf",
      "value": "Epoch 2:  22%"
     }
    },
    "f011ece7224e4a2ebda5edc79f767cd0": {
     "model_module": "@jupyter-widgets/base",
     "model_module_version": "1.2.0",
     "model_name": "LayoutModel",
     "state": {
      "_model_module": "@jupyter-widgets/base",
      "_model_module_version": "1.2.0",
      "_model_name": "LayoutModel",
      "_view_count": null,
      "_view_module": "@jupyter-widgets/base",
      "_view_module_version": "1.2.0",
      "_view_name": "LayoutView",
      "align_content": null,
      "align_items": null,
      "align_self": null,
      "border": null,
      "bottom": null,
      "display": null,
      "flex": null,
      "flex_flow": null,
      "grid_area": null,
      "grid_auto_columns": null,
      "grid_auto_flow": null,
      "grid_auto_rows": null,
      "grid_column": null,
      "grid_gap": null,
      "grid_row": null,
      "grid_template_areas": null,
      "grid_template_columns": null,
      "grid_template_rows": null,
      "height": null,
      "justify_content": null,
      "justify_items": null,
      "left": null,
      "margin": null,
      "max_height": null,
      "max_width": null,
      "min_height": null,
      "min_width": null,
      "object_fit": null,
      "object_position": null,
      "order": null,
      "overflow": null,
      "overflow_x": null,
      "overflow_y": null,
      "padding": null,
      "right": null,
      "top": null,
      "visibility": null,
      "width": null
     }
    },
    "f92f0602e273456d82a3ba977d5ba69c": {
     "model_module": "@jupyter-widgets/base",
     "model_module_version": "1.2.0",
     "model_name": "LayoutModel",
     "state": {
      "_model_module": "@jupyter-widgets/base",
      "_model_module_version": "1.2.0",
      "_model_name": "LayoutModel",
      "_view_count": null,
      "_view_module": "@jupyter-widgets/base",
      "_view_module_version": "1.2.0",
      "_view_name": "LayoutView",
      "align_content": null,
      "align_items": null,
      "align_self": null,
      "border": null,
      "bottom": null,
      "display": null,
      "flex": null,
      "flex_flow": null,
      "grid_area": null,
      "grid_auto_columns": null,
      "grid_auto_flow": null,
      "grid_auto_rows": null,
      "grid_column": null,
      "grid_gap": null,
      "grid_row": null,
      "grid_template_areas": null,
      "grid_template_columns": null,
      "grid_template_rows": null,
      "height": null,
      "justify_content": null,
      "justify_items": null,
      "left": null,
      "margin": null,
      "max_height": null,
      "max_width": null,
      "min_height": null,
      "min_width": null,
      "object_fit": null,
      "object_position": null,
      "order": null,
      "overflow": null,
      "overflow_x": null,
      "overflow_y": null,
      "padding": null,
      "right": null,
      "top": null,
      "visibility": null,
      "width": null
     }
    },
    "fba3e9929706429eb158cc958f58162f": {
     "model_module": "@jupyter-widgets/controls",
     "model_module_version": "1.5.0",
     "model_name": "HBoxModel",
     "state": {
      "_dom_classes": [],
      "_model_module": "@jupyter-widgets/controls",
      "_model_module_version": "1.5.0",
      "_model_name": "HBoxModel",
      "_view_count": null,
      "_view_module": "@jupyter-widgets/controls",
      "_view_module_version": "1.5.0",
      "_view_name": "HBoxView",
      "box_style": "",
      "children": [
       "IPY_MODEL_a090a2a04e014f2fae2f20a74427ef6a",
       "IPY_MODEL_00efd94dc2ac49daaf4cd85b9ac7ac1f",
       "IPY_MODEL_63200b6f061f40f8af1b6e9d41ca89cc"
      ],
      "layout": "IPY_MODEL_cfa71eb75820485e8f3075d16d0b7469"
     }
    }
   }
  }
 },
 "nbformat": 4,
 "nbformat_minor": 1
}
